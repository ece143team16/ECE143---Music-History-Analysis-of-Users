{
 "cells": [
  {
   "cell_type": "code",
   "execution_count": 2,
   "metadata": {},
   "outputs": [],
   "source": [
    "#Author: Humberto Hernandez\n",
    "#Last Updated: 5/31/2018 5:14pm\n",
    "fnew = open('tag.txt', 'w')\n",
    "headers = 'tag ID\\ttagname\\n'\n",
    "fnew.write(headers)\n",
    " \n",
    "with open('tag') as f:\n",
    "    for line in f:\n",
    "        line_list = line.split('\\t')\n",
    "        new_line_list = line_list[0:2]\n",
    "        delimiter = '\\t'\n",
    "        new_line = delimiter.join(new_line_list)\n",
    "        fnew.write(new_line)\n",
    "        fnew.write('\\n')\n",
    "\n",
    "fnew.close()    "
   ]
  },
  {
   "cell_type": "code",
   "execution_count": null,
   "metadata": {},
   "outputs": [],
   "source": []
  }
 ],
 "metadata": {
  "kernelspec": {
   "display_name": "Python 2",
   "language": "python",
   "name": "python2"
  },
  "language_info": {
   "codemirror_mode": {
    "name": "ipython",
    "version": 2
   },
   "file_extension": ".py",
   "mimetype": "text/x-python",
   "name": "python",
   "nbconvert_exporter": "python",
   "pygments_lexer": "ipython2",
   "version": "2.7.14"
  }
 },
 "nbformat": 4,
 "nbformat_minor": 2
}
