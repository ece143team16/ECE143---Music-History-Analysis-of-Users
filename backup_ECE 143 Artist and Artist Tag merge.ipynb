{
 "cells": [
  {
   "cell_type": "code",
   "execution_count": 103,
   "metadata": {},
   "outputs": [],
   "source": [
    "import pandas as pd\n",
    "artist = pd.read_csv('/Users/humbe/Downloads/artist_refined.csv', delimiter = '\\t')\n",
    "artist_tag = pd.read_csv('/Users/humbe/Downloads/artist_tag.csv', delimiter = '\\t')\n",
    "tag_table = pd.read_csv('/Users/humbe/Downloads/tag.txt', delimiter = '\\t')"
   ]
  },
  {
   "cell_type": "code",
   "execution_count": 104,
   "metadata": {
    "scrolled": true
   },
   "outputs": [
    {
     "data": {
      "text/html": [
       "<div>\n",
       "<style scoped>\n",
       "    .dataframe tbody tr th:only-of-type {\n",
       "        vertical-align: middle;\n",
       "    }\n",
       "\n",
       "    .dataframe tbody tr th {\n",
       "        vertical-align: top;\n",
       "    }\n",
       "\n",
       "    .dataframe thead th {\n",
       "        text-align: right;\n",
       "    }\n",
       "</style>\n",
       "<table border=\"1\" class=\"dataframe\">\n",
       "  <thead>\n",
       "    <tr style=\"text-align: right;\">\n",
       "      <th></th>\n",
       "      <th>pkID</th>\n",
       "      <th>MBID</th>\n",
       "      <th>Artist</th>\n",
       "    </tr>\n",
       "  </thead>\n",
       "  <tbody>\n",
       "    <tr>\n",
       "      <th>0</th>\n",
       "      <td>805192</td>\n",
       "      <td>8972b1c1-6482-4750-b51f-596d2edea8b1</td>\n",
       "      <td>WIK▲N</td>\n",
       "    </tr>\n",
       "    <tr>\n",
       "      <th>1</th>\n",
       "      <td>371203</td>\n",
       "      <td>49add228-eac5-4de8-836c-d75cde7369c3</td>\n",
       "      <td>Pete Moutso</td>\n",
       "    </tr>\n",
       "    <tr>\n",
       "      <th>2</th>\n",
       "      <td>273232</td>\n",
       "      <td>c112a400-af49-4665-8bba-741531d962a1</td>\n",
       "      <td>Zachary</td>\n",
       "    </tr>\n",
       "    <tr>\n",
       "      <th>3</th>\n",
       "      <td>101060</td>\n",
       "      <td>ca3f3ee1-c4a7-4bac-a16a-0b888a396c6b</td>\n",
       "      <td>The Silhouettes</td>\n",
       "    </tr>\n",
       "    <tr>\n",
       "      <th>4</th>\n",
       "      <td>145773</td>\n",
       "      <td>7b4a548e-a01a-49b7-82e7-b49efeb9732c</td>\n",
       "      <td>Aric Leavitt</td>\n",
       "    </tr>\n",
       "  </tbody>\n",
       "</table>\n",
       "</div>"
      ],
      "text/plain": [
       "     pkID                                  MBID           Artist\n",
       "0  805192  8972b1c1-6482-4750-b51f-596d2edea8b1            WIK▲N\n",
       "1  371203  49add228-eac5-4de8-836c-d75cde7369c3      Pete Moutso\n",
       "2  273232  c112a400-af49-4665-8bba-741531d962a1          Zachary\n",
       "3  101060  ca3f3ee1-c4a7-4bac-a16a-0b888a396c6b  The Silhouettes\n",
       "4  145773  7b4a548e-a01a-49b7-82e7-b49efeb9732c     Aric Leavitt"
      ]
     },
     "execution_count": 104,
     "metadata": {},
     "output_type": "execute_result"
    }
   ],
   "source": [
    "artist.head()"
   ]
  },
  {
   "cell_type": "code",
   "execution_count": 105,
   "metadata": {},
   "outputs": [
    {
     "data": {
      "text/plain": [
       "(1356202, 3)"
      ]
     },
     "execution_count": 105,
     "metadata": {},
     "output_type": "execute_result"
    }
   ],
   "source": [
    "artist.shape"
   ]
  },
  {
   "cell_type": "code",
   "execution_count": 106,
   "metadata": {},
   "outputs": [
    {
     "data": {
      "text/html": [
       "<div>\n",
       "<style scoped>\n",
       "    .dataframe tbody tr th:only-of-type {\n",
       "        vertical-align: middle;\n",
       "    }\n",
       "\n",
       "    .dataframe tbody tr th {\n",
       "        vertical-align: top;\n",
       "    }\n",
       "\n",
       "    .dataframe thead th {\n",
       "        text-align: right;\n",
       "    }\n",
       "</style>\n",
       "<table border=\"1\" class=\"dataframe\">\n",
       "  <thead>\n",
       "    <tr style=\"text-align: right;\">\n",
       "      <th></th>\n",
       "      <th>pk ID</th>\n",
       "      <th>tag ID</th>\n",
       "    </tr>\n",
       "  </thead>\n",
       "  <tbody>\n",
       "    <tr>\n",
       "      <th>0</th>\n",
       "      <td>468800</td>\n",
       "      <td>29</td>\n",
       "    </tr>\n",
       "    <tr>\n",
       "      <th>1</th>\n",
       "      <td>522545</td>\n",
       "      <td>63294</td>\n",
       "    </tr>\n",
       "    <tr>\n",
       "      <th>2</th>\n",
       "      <td>31390</td>\n",
       "      <td>173</td>\n",
       "    </tr>\n",
       "    <tr>\n",
       "      <th>3</th>\n",
       "      <td>108404</td>\n",
       "      <td>43</td>\n",
       "    </tr>\n",
       "    <tr>\n",
       "      <th>4</th>\n",
       "      <td>108404</td>\n",
       "      <td>271</td>\n",
       "    </tr>\n",
       "  </tbody>\n",
       "</table>\n",
       "</div>"
      ],
      "text/plain": [
       "    pk ID  tag ID\n",
       "0  468800      29\n",
       "1  522545   63294\n",
       "2   31390     173\n",
       "3  108404      43\n",
       "4  108404     271"
      ]
     },
     "execution_count": 106,
     "metadata": {},
     "output_type": "execute_result"
    }
   ],
   "source": [
    "artist_tag.head()"
   ]
  },
  {
   "cell_type": "code",
   "execution_count": 107,
   "metadata": {},
   "outputs": [
    {
     "data": {
      "text/plain": [
       "(249087, 2)"
      ]
     },
     "execution_count": 107,
     "metadata": {},
     "output_type": "execute_result"
    }
   ],
   "source": [
    "artist_tag.shape"
   ]
  },
  {
   "cell_type": "code",
   "execution_count": 108,
   "metadata": {
    "scrolled": true
   },
   "outputs": [
    {
     "data": {
      "text/html": [
       "<div>\n",
       "<style scoped>\n",
       "    .dataframe tbody tr th:only-of-type {\n",
       "        vertical-align: middle;\n",
       "    }\n",
       "\n",
       "    .dataframe tbody tr th {\n",
       "        vertical-align: top;\n",
       "    }\n",
       "\n",
       "    .dataframe thead th {\n",
       "        text-align: right;\n",
       "    }\n",
       "</style>\n",
       "<table border=\"1\" class=\"dataframe\">\n",
       "  <thead>\n",
       "    <tr style=\"text-align: right;\">\n",
       "      <th></th>\n",
       "      <th>tag ID</th>\n",
       "      <th>tagname</th>\n",
       "    </tr>\n",
       "  </thead>\n",
       "  <tbody>\n",
       "    <tr>\n",
       "      <th>0</th>\n",
       "      <td>95</td>\n",
       "      <td>finnish</td>\n",
       "    </tr>\n",
       "    <tr>\n",
       "      <th>1</th>\n",
       "      <td>23</td>\n",
       "      <td>slovak</td>\n",
       "    </tr>\n",
       "    <tr>\n",
       "      <th>2</th>\n",
       "      <td>801</td>\n",
       "      <td>iowa</td>\n",
       "    </tr>\n",
       "    <tr>\n",
       "      <th>3</th>\n",
       "      <td>4</td>\n",
       "      <td>groundbreaking</td>\n",
       "    </tr>\n",
       "    <tr>\n",
       "      <th>4</th>\n",
       "      <td>130</td>\n",
       "      <td>taiwanese</td>\n",
       "    </tr>\n",
       "  </tbody>\n",
       "</table>\n",
       "</div>"
      ],
      "text/plain": [
       "   tag ID         tagname\n",
       "0      95         finnish\n",
       "1      23          slovak\n",
       "2     801            iowa\n",
       "3       4  groundbreaking\n",
       "4     130       taiwanese"
      ]
     },
     "execution_count": 108,
     "metadata": {},
     "output_type": "execute_result"
    }
   ],
   "source": [
    "tag_table.head()"
   ]
  },
  {
   "cell_type": "code",
   "execution_count": 109,
   "metadata": {},
   "outputs": [
    {
     "data": {
      "text/plain": [
       "(79316, 2)"
      ]
     },
     "execution_count": 109,
     "metadata": {},
     "output_type": "execute_result"
    }
   ],
   "source": [
    "tag_table.shape"
   ]
  },
  {
   "cell_type": "code",
   "execution_count": 110,
   "metadata": {},
   "outputs": [],
   "source": [
    "new_table = artist_tag.merge(artist, how = 'right', left_on = 'pk ID', right_on = 'pkID')"
   ]
  },
  {
   "cell_type": "code",
   "execution_count": 111,
   "metadata": {},
   "outputs": [
    {
     "data": {
      "text/plain": [
       "(1512517, 5)"
      ]
     },
     "execution_count": 111,
     "metadata": {},
     "output_type": "execute_result"
    }
   ],
   "source": [
    "new_table.shape"
   ]
  },
  {
   "cell_type": "code",
   "execution_count": 112,
   "metadata": {},
   "outputs": [
    {
     "data": {
      "text/html": [
       "<div>\n",
       "<style scoped>\n",
       "    .dataframe tbody tr th:only-of-type {\n",
       "        vertical-align: middle;\n",
       "    }\n",
       "\n",
       "    .dataframe tbody tr th {\n",
       "        vertical-align: top;\n",
       "    }\n",
       "\n",
       "    .dataframe thead th {\n",
       "        text-align: right;\n",
       "    }\n",
       "</style>\n",
       "<table border=\"1\" class=\"dataframe\">\n",
       "  <thead>\n",
       "    <tr style=\"text-align: right;\">\n",
       "      <th></th>\n",
       "      <th>pk ID</th>\n",
       "      <th>tag ID</th>\n",
       "      <th>pkID</th>\n",
       "      <th>MBID</th>\n",
       "      <th>Artist</th>\n",
       "    </tr>\n",
       "  </thead>\n",
       "  <tbody>\n",
       "    <tr>\n",
       "      <th>0</th>\n",
       "      <td>468800.0</td>\n",
       "      <td>29.0</td>\n",
       "      <td>468800</td>\n",
       "      <td>8af61e3f-fb60-484a-a5e7-1298f439ca4c</td>\n",
       "      <td>Citadel</td>\n",
       "    </tr>\n",
       "    <tr>\n",
       "      <th>1</th>\n",
       "      <td>522545.0</td>\n",
       "      <td>63294.0</td>\n",
       "      <td>522545</td>\n",
       "      <td>e6ba541b-3360-4368-8269-b9de09855e53</td>\n",
       "      <td>Robert Fuchs</td>\n",
       "    </tr>\n",
       "    <tr>\n",
       "      <th>2</th>\n",
       "      <td>522545.0</td>\n",
       "      <td>670.0</td>\n",
       "      <td>522545</td>\n",
       "      <td>e6ba541b-3360-4368-8269-b9de09855e53</td>\n",
       "      <td>Robert Fuchs</td>\n",
       "    </tr>\n",
       "    <tr>\n",
       "      <th>3</th>\n",
       "      <td>522545.0</td>\n",
       "      <td>15.0</td>\n",
       "      <td>522545</td>\n",
       "      <td>e6ba541b-3360-4368-8269-b9de09855e53</td>\n",
       "      <td>Robert Fuchs</td>\n",
       "    </tr>\n",
       "    <tr>\n",
       "      <th>4</th>\n",
       "      <td>31390.0</td>\n",
       "      <td>173.0</td>\n",
       "      <td>31390</td>\n",
       "      <td>69632f9c-31eb-43d5-a864-e73ac72efc66</td>\n",
       "      <td>Behemoth</td>\n",
       "    </tr>\n",
       "  </tbody>\n",
       "</table>\n",
       "</div>"
      ],
      "text/plain": [
       "      pk ID   tag ID    pkID                                  MBID  \\\n",
       "0  468800.0     29.0  468800  8af61e3f-fb60-484a-a5e7-1298f439ca4c   \n",
       "1  522545.0  63294.0  522545  e6ba541b-3360-4368-8269-b9de09855e53   \n",
       "2  522545.0    670.0  522545  e6ba541b-3360-4368-8269-b9de09855e53   \n",
       "3  522545.0     15.0  522545  e6ba541b-3360-4368-8269-b9de09855e53   \n",
       "4   31390.0    173.0   31390  69632f9c-31eb-43d5-a864-e73ac72efc66   \n",
       "\n",
       "         Artist  \n",
       "0       Citadel  \n",
       "1  Robert Fuchs  \n",
       "2  Robert Fuchs  \n",
       "3  Robert Fuchs  \n",
       "4      Behemoth  "
      ]
     },
     "execution_count": 112,
     "metadata": {},
     "output_type": "execute_result"
    }
   ],
   "source": [
    "new_table.head()"
   ]
  },
  {
   "cell_type": "code",
   "execution_count": 113,
   "metadata": {},
   "outputs": [],
   "source": [
    "newer_table = tag_table.merge(new_table, how = 'right', left_on = 'tag ID', right_on = 'tag ID')"
   ]
  },
  {
   "cell_type": "code",
   "execution_count": 114,
   "metadata": {},
   "outputs": [
    {
     "data": {
      "text/plain": [
       "(1512517, 6)"
      ]
     },
     "execution_count": 114,
     "metadata": {},
     "output_type": "execute_result"
    }
   ],
   "source": [
    "newer_table.shape"
   ]
  },
  {
   "cell_type": "code",
   "execution_count": 115,
   "metadata": {},
   "outputs": [],
   "source": [
    "newest_table = newer_table.set_index('MBID')"
   ]
  },
  {
   "cell_type": "code",
   "execution_count": 116,
   "metadata": {},
   "outputs": [
    {
     "data": {
      "text/html": [
       "<div>\n",
       "<style scoped>\n",
       "    .dataframe tbody tr th:only-of-type {\n",
       "        vertical-align: middle;\n",
       "    }\n",
       "\n",
       "    .dataframe tbody tr th {\n",
       "        vertical-align: top;\n",
       "    }\n",
       "\n",
       "    .dataframe thead th {\n",
       "        text-align: right;\n",
       "    }\n",
       "</style>\n",
       "<table border=\"1\" class=\"dataframe\">\n",
       "  <thead>\n",
       "    <tr style=\"text-align: right;\">\n",
       "      <th></th>\n",
       "      <th>tag ID</th>\n",
       "      <th>tagname</th>\n",
       "      <th>pk ID</th>\n",
       "      <th>pkID</th>\n",
       "      <th>Artist</th>\n",
       "    </tr>\n",
       "    <tr>\n",
       "      <th>MBID</th>\n",
       "      <th></th>\n",
       "      <th></th>\n",
       "      <th></th>\n",
       "      <th></th>\n",
       "      <th></th>\n",
       "    </tr>\n",
       "  </thead>\n",
       "  <tbody>\n",
       "    <tr>\n",
       "      <th>c054ea6b-c585-41eb-ae7e-4b0ca43308ff</th>\n",
       "      <td>95.0</td>\n",
       "      <td>finnish</td>\n",
       "      <td>190302.0</td>\n",
       "      <td>190302</td>\n",
       "      <td>Wintersun</td>\n",
       "    </tr>\n",
       "    <tr>\n",
       "      <th>0ac956e9-5b07-4389-8d32-95f332a5b397</th>\n",
       "      <td>95.0</td>\n",
       "      <td>finnish</td>\n",
       "      <td>523317.0</td>\n",
       "      <td>523317</td>\n",
       "      <td>The Puritan</td>\n",
       "    </tr>\n",
       "    <tr>\n",
       "      <th>f57e14e4-b030-467c-b202-539453f504ec</th>\n",
       "      <td>95.0</td>\n",
       "      <td>finnish</td>\n",
       "      <td>10531.0</td>\n",
       "      <td>10531</td>\n",
       "      <td>Children of Bodom</td>\n",
       "    </tr>\n",
       "    <tr>\n",
       "      <th>00a9f935-ba93-4fc8-a33a-993abe9c936b</th>\n",
       "      <td>95.0</td>\n",
       "      <td>finnish</td>\n",
       "      <td>2062.0</td>\n",
       "      <td>2062</td>\n",
       "      <td>Nightwish</td>\n",
       "    </tr>\n",
       "    <tr>\n",
       "      <th>f15430f3-54b8-4ef0-9aad-fa959c59c92c</th>\n",
       "      <td>95.0</td>\n",
       "      <td>finnish</td>\n",
       "      <td>667821.0</td>\n",
       "      <td>667821</td>\n",
       "      <td>Mr. G+Trrr</td>\n",
       "    </tr>\n",
       "  </tbody>\n",
       "</table>\n",
       "</div>"
      ],
      "text/plain": [
       "                                      tag ID  tagname     pk ID    pkID  \\\n",
       "MBID                                                                      \n",
       "c054ea6b-c585-41eb-ae7e-4b0ca43308ff    95.0  finnish  190302.0  190302   \n",
       "0ac956e9-5b07-4389-8d32-95f332a5b397    95.0  finnish  523317.0  523317   \n",
       "f57e14e4-b030-467c-b202-539453f504ec    95.0  finnish   10531.0   10531   \n",
       "00a9f935-ba93-4fc8-a33a-993abe9c936b    95.0  finnish    2062.0    2062   \n",
       "f15430f3-54b8-4ef0-9aad-fa959c59c92c    95.0  finnish  667821.0  667821   \n",
       "\n",
       "                                                 Artist  \n",
       "MBID                                                     \n",
       "c054ea6b-c585-41eb-ae7e-4b0ca43308ff          Wintersun  \n",
       "0ac956e9-5b07-4389-8d32-95f332a5b397        The Puritan  \n",
       "f57e14e4-b030-467c-b202-539453f504ec  Children of Bodom  \n",
       "00a9f935-ba93-4fc8-a33a-993abe9c936b          Nightwish  \n",
       "f15430f3-54b8-4ef0-9aad-fa959c59c92c         Mr. G+Trrr  "
      ]
     },
     "execution_count": 116,
     "metadata": {},
     "output_type": "execute_result"
    }
   ],
   "source": [
    "newest_table.head()"
   ]
  },
  {
   "cell_type": "code",
   "execution_count": 117,
   "metadata": {},
   "outputs": [
    {
     "data": {
      "text/plain": [
       "(1512517, 5)"
      ]
     },
     "execution_count": 117,
     "metadata": {},
     "output_type": "execute_result"
    }
   ],
   "source": [
    "newest_table.shape"
   ]
  },
  {
   "cell_type": "code",
   "execution_count": 118,
   "metadata": {},
   "outputs": [],
   "source": [
    "right_table = newest_table.drop('pk ID', axis = 1)"
   ]
  },
  {
   "cell_type": "code",
   "execution_count": 119,
   "metadata": {},
   "outputs": [
    {
     "data": {
      "text/html": [
       "<div>\n",
       "<style scoped>\n",
       "    .dataframe tbody tr th:only-of-type {\n",
       "        vertical-align: middle;\n",
       "    }\n",
       "\n",
       "    .dataframe tbody tr th {\n",
       "        vertical-align: top;\n",
       "    }\n",
       "\n",
       "    .dataframe thead th {\n",
       "        text-align: right;\n",
       "    }\n",
       "</style>\n",
       "<table border=\"1\" class=\"dataframe\">\n",
       "  <thead>\n",
       "    <tr style=\"text-align: right;\">\n",
       "      <th></th>\n",
       "      <th>tag ID</th>\n",
       "      <th>tagname</th>\n",
       "      <th>pk ID</th>\n",
       "      <th>pkID</th>\n",
       "      <th>Artist</th>\n",
       "    </tr>\n",
       "    <tr>\n",
       "      <th>MBID</th>\n",
       "      <th></th>\n",
       "      <th></th>\n",
       "      <th></th>\n",
       "      <th></th>\n",
       "      <th></th>\n",
       "    </tr>\n",
       "  </thead>\n",
       "  <tbody>\n",
       "    <tr>\n",
       "      <th>c054ea6b-c585-41eb-ae7e-4b0ca43308ff</th>\n",
       "      <td>95.0</td>\n",
       "      <td>finnish</td>\n",
       "      <td>190302.0</td>\n",
       "      <td>190302</td>\n",
       "      <td>Wintersun</td>\n",
       "    </tr>\n",
       "    <tr>\n",
       "      <th>0ac956e9-5b07-4389-8d32-95f332a5b397</th>\n",
       "      <td>95.0</td>\n",
       "      <td>finnish</td>\n",
       "      <td>523317.0</td>\n",
       "      <td>523317</td>\n",
       "      <td>The Puritan</td>\n",
       "    </tr>\n",
       "    <tr>\n",
       "      <th>f57e14e4-b030-467c-b202-539453f504ec</th>\n",
       "      <td>95.0</td>\n",
       "      <td>finnish</td>\n",
       "      <td>10531.0</td>\n",
       "      <td>10531</td>\n",
       "      <td>Children of Bodom</td>\n",
       "    </tr>\n",
       "    <tr>\n",
       "      <th>00a9f935-ba93-4fc8-a33a-993abe9c936b</th>\n",
       "      <td>95.0</td>\n",
       "      <td>finnish</td>\n",
       "      <td>2062.0</td>\n",
       "      <td>2062</td>\n",
       "      <td>Nightwish</td>\n",
       "    </tr>\n",
       "    <tr>\n",
       "      <th>f15430f3-54b8-4ef0-9aad-fa959c59c92c</th>\n",
       "      <td>95.0</td>\n",
       "      <td>finnish</td>\n",
       "      <td>667821.0</td>\n",
       "      <td>667821</td>\n",
       "      <td>Mr. G+Trrr</td>\n",
       "    </tr>\n",
       "  </tbody>\n",
       "</table>\n",
       "</div>"
      ],
      "text/plain": [
       "                                      tag ID  tagname     pk ID    pkID  \\\n",
       "MBID                                                                      \n",
       "c054ea6b-c585-41eb-ae7e-4b0ca43308ff    95.0  finnish  190302.0  190302   \n",
       "0ac956e9-5b07-4389-8d32-95f332a5b397    95.0  finnish  523317.0  523317   \n",
       "f57e14e4-b030-467c-b202-539453f504ec    95.0  finnish   10531.0   10531   \n",
       "00a9f935-ba93-4fc8-a33a-993abe9c936b    95.0  finnish    2062.0    2062   \n",
       "f15430f3-54b8-4ef0-9aad-fa959c59c92c    95.0  finnish  667821.0  667821   \n",
       "\n",
       "                                                 Artist  \n",
       "MBID                                                     \n",
       "c054ea6b-c585-41eb-ae7e-4b0ca43308ff          Wintersun  \n",
       "0ac956e9-5b07-4389-8d32-95f332a5b397        The Puritan  \n",
       "f57e14e4-b030-467c-b202-539453f504ec  Children of Bodom  \n",
       "00a9f935-ba93-4fc8-a33a-993abe9c936b          Nightwish  \n",
       "f15430f3-54b8-4ef0-9aad-fa959c59c92c         Mr. G+Trrr  "
      ]
     },
     "execution_count": 119,
     "metadata": {},
     "output_type": "execute_result"
    }
   ],
   "source": [
    "newest_table.head()"
   ]
  },
  {
   "cell_type": "code",
   "execution_count": 120,
   "metadata": {},
   "outputs": [
    {
     "data": {
      "text/html": [
       "<div>\n",
       "<style scoped>\n",
       "    .dataframe tbody tr th:only-of-type {\n",
       "        vertical-align: middle;\n",
       "    }\n",
       "\n",
       "    .dataframe tbody tr th {\n",
       "        vertical-align: top;\n",
       "    }\n",
       "\n",
       "    .dataframe thead th {\n",
       "        text-align: right;\n",
       "    }\n",
       "</style>\n",
       "<table border=\"1\" class=\"dataframe\">\n",
       "  <thead>\n",
       "    <tr style=\"text-align: right;\">\n",
       "      <th></th>\n",
       "      <th>tag ID</th>\n",
       "      <th>tagname</th>\n",
       "      <th>pkID</th>\n",
       "      <th>Artist</th>\n",
       "    </tr>\n",
       "    <tr>\n",
       "      <th>MBID</th>\n",
       "      <th></th>\n",
       "      <th></th>\n",
       "      <th></th>\n",
       "      <th></th>\n",
       "    </tr>\n",
       "  </thead>\n",
       "  <tbody>\n",
       "    <tr>\n",
       "      <th>c054ea6b-c585-41eb-ae7e-4b0ca43308ff</th>\n",
       "      <td>95.0</td>\n",
       "      <td>finnish</td>\n",
       "      <td>190302</td>\n",
       "      <td>Wintersun</td>\n",
       "    </tr>\n",
       "    <tr>\n",
       "      <th>0ac956e9-5b07-4389-8d32-95f332a5b397</th>\n",
       "      <td>95.0</td>\n",
       "      <td>finnish</td>\n",
       "      <td>523317</td>\n",
       "      <td>The Puritan</td>\n",
       "    </tr>\n",
       "    <tr>\n",
       "      <th>f57e14e4-b030-467c-b202-539453f504ec</th>\n",
       "      <td>95.0</td>\n",
       "      <td>finnish</td>\n",
       "      <td>10531</td>\n",
       "      <td>Children of Bodom</td>\n",
       "    </tr>\n",
       "    <tr>\n",
       "      <th>00a9f935-ba93-4fc8-a33a-993abe9c936b</th>\n",
       "      <td>95.0</td>\n",
       "      <td>finnish</td>\n",
       "      <td>2062</td>\n",
       "      <td>Nightwish</td>\n",
       "    </tr>\n",
       "    <tr>\n",
       "      <th>f15430f3-54b8-4ef0-9aad-fa959c59c92c</th>\n",
       "      <td>95.0</td>\n",
       "      <td>finnish</td>\n",
       "      <td>667821</td>\n",
       "      <td>Mr. G+Trrr</td>\n",
       "    </tr>\n",
       "  </tbody>\n",
       "</table>\n",
       "</div>"
      ],
      "text/plain": [
       "                                      tag ID  tagname    pkID  \\\n",
       "MBID                                                            \n",
       "c054ea6b-c585-41eb-ae7e-4b0ca43308ff    95.0  finnish  190302   \n",
       "0ac956e9-5b07-4389-8d32-95f332a5b397    95.0  finnish  523317   \n",
       "f57e14e4-b030-467c-b202-539453f504ec    95.0  finnish   10531   \n",
       "00a9f935-ba93-4fc8-a33a-993abe9c936b    95.0  finnish    2062   \n",
       "f15430f3-54b8-4ef0-9aad-fa959c59c92c    95.0  finnish  667821   \n",
       "\n",
       "                                                 Artist  \n",
       "MBID                                                     \n",
       "c054ea6b-c585-41eb-ae7e-4b0ca43308ff          Wintersun  \n",
       "0ac956e9-5b07-4389-8d32-95f332a5b397        The Puritan  \n",
       "f57e14e4-b030-467c-b202-539453f504ec  Children of Bodom  \n",
       "00a9f935-ba93-4fc8-a33a-993abe9c936b          Nightwish  \n",
       "f15430f3-54b8-4ef0-9aad-fa959c59c92c         Mr. G+Trrr  "
      ]
     },
     "execution_count": 120,
     "metadata": {},
     "output_type": "execute_result"
    }
   ],
   "source": [
    "right_table.head()"
   ]
  },
  {
   "cell_type": "code",
   "execution_count": 121,
   "metadata": {},
   "outputs": [
    {
     "data": {
      "text/plain": [
       "(1512517, 4)"
      ]
     },
     "execution_count": 121,
     "metadata": {},
     "output_type": "execute_result"
    }
   ],
   "source": [
    "right_table.shape"
   ]
  },
  {
   "cell_type": "code",
   "execution_count": 122,
   "metadata": {},
   "outputs": [],
   "source": [
    "final_artist_table = right_table.drop(['tag ID','pkID'], axis = 1)"
   ]
  },
  {
   "cell_type": "code",
   "execution_count": 123,
   "metadata": {},
   "outputs": [
    {
     "data": {
      "text/html": [
       "<div>\n",
       "<style scoped>\n",
       "    .dataframe tbody tr th:only-of-type {\n",
       "        vertical-align: middle;\n",
       "    }\n",
       "\n",
       "    .dataframe tbody tr th {\n",
       "        vertical-align: top;\n",
       "    }\n",
       "\n",
       "    .dataframe thead th {\n",
       "        text-align: right;\n",
       "    }\n",
       "</style>\n",
       "<table border=\"1\" class=\"dataframe\">\n",
       "  <thead>\n",
       "    <tr style=\"text-align: right;\">\n",
       "      <th></th>\n",
       "      <th>tagname</th>\n",
       "      <th>Artist</th>\n",
       "    </tr>\n",
       "    <tr>\n",
       "      <th>MBID</th>\n",
       "      <th></th>\n",
       "      <th></th>\n",
       "    </tr>\n",
       "  </thead>\n",
       "  <tbody>\n",
       "    <tr>\n",
       "      <th>c054ea6b-c585-41eb-ae7e-4b0ca43308ff</th>\n",
       "      <td>finnish</td>\n",
       "      <td>Wintersun</td>\n",
       "    </tr>\n",
       "    <tr>\n",
       "      <th>0ac956e9-5b07-4389-8d32-95f332a5b397</th>\n",
       "      <td>finnish</td>\n",
       "      <td>The Puritan</td>\n",
       "    </tr>\n",
       "    <tr>\n",
       "      <th>f57e14e4-b030-467c-b202-539453f504ec</th>\n",
       "      <td>finnish</td>\n",
       "      <td>Children of Bodom</td>\n",
       "    </tr>\n",
       "    <tr>\n",
       "      <th>00a9f935-ba93-4fc8-a33a-993abe9c936b</th>\n",
       "      <td>finnish</td>\n",
       "      <td>Nightwish</td>\n",
       "    </tr>\n",
       "    <tr>\n",
       "      <th>f15430f3-54b8-4ef0-9aad-fa959c59c92c</th>\n",
       "      <td>finnish</td>\n",
       "      <td>Mr. G+Trrr</td>\n",
       "    </tr>\n",
       "  </tbody>\n",
       "</table>\n",
       "</div>"
      ],
      "text/plain": [
       "                                      tagname             Artist\n",
       "MBID                                                            \n",
       "c054ea6b-c585-41eb-ae7e-4b0ca43308ff  finnish          Wintersun\n",
       "0ac956e9-5b07-4389-8d32-95f332a5b397  finnish        The Puritan\n",
       "f57e14e4-b030-467c-b202-539453f504ec  finnish  Children of Bodom\n",
       "00a9f935-ba93-4fc8-a33a-993abe9c936b  finnish          Nightwish\n",
       "f15430f3-54b8-4ef0-9aad-fa959c59c92c  finnish         Mr. G+Trrr"
      ]
     },
     "execution_count": 123,
     "metadata": {},
     "output_type": "execute_result"
    }
   ],
   "source": [
    "final_artist_table.head()"
   ]
  },
  {
   "cell_type": "code",
   "execution_count": 124,
   "metadata": {},
   "outputs": [],
   "source": [
    "Maroon = final_artist_table[final_artist_table.Artist == 'Maroon 5']"
   ]
  },
  {
   "cell_type": "code",
   "execution_count": 125,
   "metadata": {
    "scrolled": false
   },
   "outputs": [
    {
     "data": {
      "text/html": [
       "<div>\n",
       "<style scoped>\n",
       "    .dataframe tbody tr th:only-of-type {\n",
       "        vertical-align: middle;\n",
       "    }\n",
       "\n",
       "    .dataframe tbody tr th {\n",
       "        vertical-align: top;\n",
       "    }\n",
       "\n",
       "    .dataframe thead th {\n",
       "        text-align: right;\n",
       "    }\n",
       "</style>\n",
       "<table border=\"1\" class=\"dataframe\">\n",
       "  <thead>\n",
       "    <tr style=\"text-align: right;\">\n",
       "      <th></th>\n",
       "      <th>tagname</th>\n",
       "      <th>Artist</th>\n",
       "    </tr>\n",
       "    <tr>\n",
       "      <th>MBID</th>\n",
       "      <th></th>\n",
       "      <th></th>\n",
       "    </tr>\n",
       "  </thead>\n",
       "  <tbody>\n",
       "    <tr>\n",
       "      <th>0ab49580-c84f-44d4-875f-d83760ea2cfe</th>\n",
       "      <td>slow pop</td>\n",
       "      <td>Maroon 5</td>\n",
       "    </tr>\n",
       "    <tr>\n",
       "      <th>0ab49580-c84f-44d4-875f-d83760ea2cfe</th>\n",
       "      <td>rock</td>\n",
       "      <td>Maroon 5</td>\n",
       "    </tr>\n",
       "    <tr>\n",
       "      <th>0ab49580-c84f-44d4-875f-d83760ea2cfe</th>\n",
       "      <td>funk rock</td>\n",
       "      <td>Maroon 5</td>\n",
       "    </tr>\n",
       "    <tr>\n",
       "      <th>0ab49580-c84f-44d4-875f-d83760ea2cfe</th>\n",
       "      <td>electropop</td>\n",
       "      <td>Maroon 5</td>\n",
       "    </tr>\n",
       "    <tr>\n",
       "      <th>0ab49580-c84f-44d4-875f-d83760ea2cfe</th>\n",
       "      <td>dance</td>\n",
       "      <td>Maroon 5</td>\n",
       "    </tr>\n",
       "    <tr>\n",
       "      <th>0ab49580-c84f-44d4-875f-d83760ea2cfe</th>\n",
       "      <td>rock and indie</td>\n",
       "      <td>Maroon 5</td>\n",
       "    </tr>\n",
       "    <tr>\n",
       "      <th>0ab49580-c84f-44d4-875f-d83760ea2cfe</th>\n",
       "      <td>pop rock</td>\n",
       "      <td>Maroon 5</td>\n",
       "    </tr>\n",
       "    <tr>\n",
       "      <th>0ab49580-c84f-44d4-875f-d83760ea2cfe</th>\n",
       "      <td>adult contemporary</td>\n",
       "      <td>Maroon 5</td>\n",
       "    </tr>\n",
       "    <tr>\n",
       "      <th>0ab49580-c84f-44d4-875f-d83760ea2cfe</th>\n",
       "      <td>pop</td>\n",
       "      <td>Maroon 5</td>\n",
       "    </tr>\n",
       "    <tr>\n",
       "      <th>0ab49580-c84f-44d4-875f-d83760ea2cfe</th>\n",
       "      <td>dance-pop</td>\n",
       "      <td>Maroon 5</td>\n",
       "    </tr>\n",
       "    <tr>\n",
       "      <th>0ab49580-c84f-44d4-875f-d83760ea2cfe</th>\n",
       "      <td>automod ng</td>\n",
       "      <td>Maroon 5</td>\n",
       "    </tr>\n",
       "    <tr>\n",
       "      <th>0ab49580-c84f-44d4-875f-d83760ea2cfe</th>\n",
       "      <td>pop/rock</td>\n",
       "      <td>Maroon 5</td>\n",
       "    </tr>\n",
       "    <tr>\n",
       "      <th>0ab49580-c84f-44d4-875f-d83760ea2cfe</th>\n",
       "      <td>fixme label mess</td>\n",
       "      <td>Maroon 5</td>\n",
       "    </tr>\n",
       "  </tbody>\n",
       "</table>\n",
       "</div>"
      ],
      "text/plain": [
       "                                                 tagname    Artist\n",
       "MBID                                                              \n",
       "0ab49580-c84f-44d4-875f-d83760ea2cfe            slow pop  Maroon 5\n",
       "0ab49580-c84f-44d4-875f-d83760ea2cfe                rock  Maroon 5\n",
       "0ab49580-c84f-44d4-875f-d83760ea2cfe           funk rock  Maroon 5\n",
       "0ab49580-c84f-44d4-875f-d83760ea2cfe          electropop  Maroon 5\n",
       "0ab49580-c84f-44d4-875f-d83760ea2cfe               dance  Maroon 5\n",
       "0ab49580-c84f-44d4-875f-d83760ea2cfe      rock and indie  Maroon 5\n",
       "0ab49580-c84f-44d4-875f-d83760ea2cfe            pop rock  Maroon 5\n",
       "0ab49580-c84f-44d4-875f-d83760ea2cfe  adult contemporary  Maroon 5\n",
       "0ab49580-c84f-44d4-875f-d83760ea2cfe                 pop  Maroon 5\n",
       "0ab49580-c84f-44d4-875f-d83760ea2cfe           dance-pop  Maroon 5\n",
       "0ab49580-c84f-44d4-875f-d83760ea2cfe          automod ng  Maroon 5\n",
       "0ab49580-c84f-44d4-875f-d83760ea2cfe            pop/rock  Maroon 5\n",
       "0ab49580-c84f-44d4-875f-d83760ea2cfe    fixme label mess  Maroon 5"
      ]
     },
     "execution_count": 125,
     "metadata": {},
     "output_type": "execute_result"
    }
   ],
   "source": [
    "Maroon"
   ]
  },
  {
   "cell_type": "code",
   "execution_count": 126,
   "metadata": {},
   "outputs": [],
   "source": [
    "final_artist_table.to_csv('final_artist_table.csv', sep = '\\t')"
   ]
  },
  {
   "cell_type": "code",
   "execution_count": 127,
   "metadata": {},
   "outputs": [],
   "source": [
    "this = pd.read_csv('final_artist_table.csv', delimiter = '\\t', index_col = 'MBID', dtype = str)"
   ]
  },
  {
   "cell_type": "code",
   "execution_count": 128,
   "metadata": {},
   "outputs": [
    {
     "data": {
      "text/html": [
       "<div>\n",
       "<style scoped>\n",
       "    .dataframe tbody tr th:only-of-type {\n",
       "        vertical-align: middle;\n",
       "    }\n",
       "\n",
       "    .dataframe tbody tr th {\n",
       "        vertical-align: top;\n",
       "    }\n",
       "\n",
       "    .dataframe thead th {\n",
       "        text-align: right;\n",
       "    }\n",
       "</style>\n",
       "<table border=\"1\" class=\"dataframe\">\n",
       "  <thead>\n",
       "    <tr style=\"text-align: right;\">\n",
       "      <th></th>\n",
       "      <th>tagname</th>\n",
       "      <th>Artist</th>\n",
       "    </tr>\n",
       "    <tr>\n",
       "      <th>MBID</th>\n",
       "      <th></th>\n",
       "      <th></th>\n",
       "    </tr>\n",
       "  </thead>\n",
       "  <tbody>\n",
       "    <tr>\n",
       "      <th>c054ea6b-c585-41eb-ae7e-4b0ca43308ff</th>\n",
       "      <td>finnish</td>\n",
       "      <td>Wintersun</td>\n",
       "    </tr>\n",
       "    <tr>\n",
       "      <th>0ac956e9-5b07-4389-8d32-95f332a5b397</th>\n",
       "      <td>finnish</td>\n",
       "      <td>The Puritan</td>\n",
       "    </tr>\n",
       "    <tr>\n",
       "      <th>f57e14e4-b030-467c-b202-539453f504ec</th>\n",
       "      <td>finnish</td>\n",
       "      <td>Children of Bodom</td>\n",
       "    </tr>\n",
       "    <tr>\n",
       "      <th>00a9f935-ba93-4fc8-a33a-993abe9c936b</th>\n",
       "      <td>finnish</td>\n",
       "      <td>Nightwish</td>\n",
       "    </tr>\n",
       "    <tr>\n",
       "      <th>f15430f3-54b8-4ef0-9aad-fa959c59c92c</th>\n",
       "      <td>finnish</td>\n",
       "      <td>Mr. G+Trrr</td>\n",
       "    </tr>\n",
       "  </tbody>\n",
       "</table>\n",
       "</div>"
      ],
      "text/plain": [
       "                                      tagname             Artist\n",
       "MBID                                                            \n",
       "c054ea6b-c585-41eb-ae7e-4b0ca43308ff  finnish          Wintersun\n",
       "0ac956e9-5b07-4389-8d32-95f332a5b397  finnish        The Puritan\n",
       "f57e14e4-b030-467c-b202-539453f504ec  finnish  Children of Bodom\n",
       "00a9f935-ba93-4fc8-a33a-993abe9c936b  finnish          Nightwish\n",
       "f15430f3-54b8-4ef0-9aad-fa959c59c92c  finnish         Mr. G+Trrr"
      ]
     },
     "execution_count": 128,
     "metadata": {},
     "output_type": "execute_result"
    }
   ],
   "source": [
    "this.head()"
   ]
  },
  {
   "cell_type": "code",
   "execution_count": 129,
   "metadata": {},
   "outputs": [
    {
     "data": {
      "text/html": [
       "<div>\n",
       "<style scoped>\n",
       "    .dataframe tbody tr th:only-of-type {\n",
       "        vertical-align: middle;\n",
       "    }\n",
       "\n",
       "    .dataframe tbody tr th {\n",
       "        vertical-align: top;\n",
       "    }\n",
       "\n",
       "    .dataframe thead th {\n",
       "        text-align: right;\n",
       "    }\n",
       "</style>\n",
       "<table border=\"1\" class=\"dataframe\">\n",
       "  <thead>\n",
       "    <tr style=\"text-align: right;\">\n",
       "      <th></th>\n",
       "      <th>tagname</th>\n",
       "      <th>Artist</th>\n",
       "    </tr>\n",
       "    <tr>\n",
       "      <th>MBID</th>\n",
       "      <th></th>\n",
       "      <th></th>\n",
       "    </tr>\n",
       "  </thead>\n",
       "  <tbody>\n",
       "    <tr>\n",
       "      <th>0ab49580-c84f-44d4-875f-d83760ea2cfe</th>\n",
       "      <td>slow pop</td>\n",
       "      <td>Maroon 5</td>\n",
       "    </tr>\n",
       "    <tr>\n",
       "      <th>0ab49580-c84f-44d4-875f-d83760ea2cfe</th>\n",
       "      <td>rock</td>\n",
       "      <td>Maroon 5</td>\n",
       "    </tr>\n",
       "    <tr>\n",
       "      <th>0ab49580-c84f-44d4-875f-d83760ea2cfe</th>\n",
       "      <td>funk rock</td>\n",
       "      <td>Maroon 5</td>\n",
       "    </tr>\n",
       "    <tr>\n",
       "      <th>0ab49580-c84f-44d4-875f-d83760ea2cfe</th>\n",
       "      <td>electropop</td>\n",
       "      <td>Maroon 5</td>\n",
       "    </tr>\n",
       "    <tr>\n",
       "      <th>0ab49580-c84f-44d4-875f-d83760ea2cfe</th>\n",
       "      <td>dance</td>\n",
       "      <td>Maroon 5</td>\n",
       "    </tr>\n",
       "    <tr>\n",
       "      <th>0ab49580-c84f-44d4-875f-d83760ea2cfe</th>\n",
       "      <td>rock and indie</td>\n",
       "      <td>Maroon 5</td>\n",
       "    </tr>\n",
       "    <tr>\n",
       "      <th>0ab49580-c84f-44d4-875f-d83760ea2cfe</th>\n",
       "      <td>pop rock</td>\n",
       "      <td>Maroon 5</td>\n",
       "    </tr>\n",
       "    <tr>\n",
       "      <th>0ab49580-c84f-44d4-875f-d83760ea2cfe</th>\n",
       "      <td>adult contemporary</td>\n",
       "      <td>Maroon 5</td>\n",
       "    </tr>\n",
       "    <tr>\n",
       "      <th>0ab49580-c84f-44d4-875f-d83760ea2cfe</th>\n",
       "      <td>pop</td>\n",
       "      <td>Maroon 5</td>\n",
       "    </tr>\n",
       "    <tr>\n",
       "      <th>0ab49580-c84f-44d4-875f-d83760ea2cfe</th>\n",
       "      <td>dance-pop</td>\n",
       "      <td>Maroon 5</td>\n",
       "    </tr>\n",
       "    <tr>\n",
       "      <th>0ab49580-c84f-44d4-875f-d83760ea2cfe</th>\n",
       "      <td>automod ng</td>\n",
       "      <td>Maroon 5</td>\n",
       "    </tr>\n",
       "    <tr>\n",
       "      <th>0ab49580-c84f-44d4-875f-d83760ea2cfe</th>\n",
       "      <td>pop/rock</td>\n",
       "      <td>Maroon 5</td>\n",
       "    </tr>\n",
       "    <tr>\n",
       "      <th>0ab49580-c84f-44d4-875f-d83760ea2cfe</th>\n",
       "      <td>fixme label mess</td>\n",
       "      <td>Maroon 5</td>\n",
       "    </tr>\n",
       "  </tbody>\n",
       "</table>\n",
       "</div>"
      ],
      "text/plain": [
       "                                                 tagname    Artist\n",
       "MBID                                                              \n",
       "0ab49580-c84f-44d4-875f-d83760ea2cfe            slow pop  Maroon 5\n",
       "0ab49580-c84f-44d4-875f-d83760ea2cfe                rock  Maroon 5\n",
       "0ab49580-c84f-44d4-875f-d83760ea2cfe           funk rock  Maroon 5\n",
       "0ab49580-c84f-44d4-875f-d83760ea2cfe          electropop  Maroon 5\n",
       "0ab49580-c84f-44d4-875f-d83760ea2cfe               dance  Maroon 5\n",
       "0ab49580-c84f-44d4-875f-d83760ea2cfe      rock and indie  Maroon 5\n",
       "0ab49580-c84f-44d4-875f-d83760ea2cfe            pop rock  Maroon 5\n",
       "0ab49580-c84f-44d4-875f-d83760ea2cfe  adult contemporary  Maroon 5\n",
       "0ab49580-c84f-44d4-875f-d83760ea2cfe                 pop  Maroon 5\n",
       "0ab49580-c84f-44d4-875f-d83760ea2cfe           dance-pop  Maroon 5\n",
       "0ab49580-c84f-44d4-875f-d83760ea2cfe          automod ng  Maroon 5\n",
       "0ab49580-c84f-44d4-875f-d83760ea2cfe            pop/rock  Maroon 5\n",
       "0ab49580-c84f-44d4-875f-d83760ea2cfe    fixme label mess  Maroon 5"
      ]
     },
     "execution_count": 129,
     "metadata": {},
     "output_type": "execute_result"
    }
   ],
   "source": [
    "final_artist_table.loc['0ab49580-c84f-44d4-875f-d83760ea2cfe']"
   ]
  },
  {
   "cell_type": "code",
   "execution_count": 130,
   "metadata": {},
   "outputs": [],
   "source": [
    "x = final_artist_table.loc['0ab49580-c84f-44d4-875f-d83760ea2cfe']"
   ]
  },
  {
   "cell_type": "code",
   "execution_count": 131,
   "metadata": {},
   "outputs": [
    {
     "data": {
      "text/plain": [
       "pandas.core.frame.DataFrame"
      ]
     },
     "execution_count": 131,
     "metadata": {},
     "output_type": "execute_result"
    }
   ],
   "source": [
    "type(x)"
   ]
  },
  {
   "cell_type": "code",
   "execution_count": 132,
   "metadata": {},
   "outputs": [
    {
     "data": {
      "text/html": [
       "<div>\n",
       "<style scoped>\n",
       "    .dataframe tbody tr th:only-of-type {\n",
       "        vertical-align: middle;\n",
       "    }\n",
       "\n",
       "    .dataframe tbody tr th {\n",
       "        vertical-align: top;\n",
       "    }\n",
       "\n",
       "    .dataframe thead th {\n",
       "        text-align: right;\n",
       "    }\n",
       "</style>\n",
       "<table border=\"1\" class=\"dataframe\">\n",
       "  <thead>\n",
       "    <tr style=\"text-align: right;\">\n",
       "      <th></th>\n",
       "      <th>tagname</th>\n",
       "      <th>Artist</th>\n",
       "    </tr>\n",
       "    <tr>\n",
       "      <th>MBID</th>\n",
       "      <th></th>\n",
       "      <th></th>\n",
       "    </tr>\n",
       "  </thead>\n",
       "  <tbody>\n",
       "    <tr>\n",
       "      <th>0ab49580-c84f-44d4-875f-d83760ea2cfe</th>\n",
       "      <td>slow pop</td>\n",
       "      <td>Maroon 5</td>\n",
       "    </tr>\n",
       "    <tr>\n",
       "      <th>0ab49580-c84f-44d4-875f-d83760ea2cfe</th>\n",
       "      <td>rock</td>\n",
       "      <td>Maroon 5</td>\n",
       "    </tr>\n",
       "    <tr>\n",
       "      <th>0ab49580-c84f-44d4-875f-d83760ea2cfe</th>\n",
       "      <td>funk rock</td>\n",
       "      <td>Maroon 5</td>\n",
       "    </tr>\n",
       "    <tr>\n",
       "      <th>0ab49580-c84f-44d4-875f-d83760ea2cfe</th>\n",
       "      <td>electropop</td>\n",
       "      <td>Maroon 5</td>\n",
       "    </tr>\n",
       "    <tr>\n",
       "      <th>0ab49580-c84f-44d4-875f-d83760ea2cfe</th>\n",
       "      <td>dance</td>\n",
       "      <td>Maroon 5</td>\n",
       "    </tr>\n",
       "    <tr>\n",
       "      <th>0ab49580-c84f-44d4-875f-d83760ea2cfe</th>\n",
       "      <td>rock and indie</td>\n",
       "      <td>Maroon 5</td>\n",
       "    </tr>\n",
       "    <tr>\n",
       "      <th>0ab49580-c84f-44d4-875f-d83760ea2cfe</th>\n",
       "      <td>pop rock</td>\n",
       "      <td>Maroon 5</td>\n",
       "    </tr>\n",
       "    <tr>\n",
       "      <th>0ab49580-c84f-44d4-875f-d83760ea2cfe</th>\n",
       "      <td>adult contemporary</td>\n",
       "      <td>Maroon 5</td>\n",
       "    </tr>\n",
       "    <tr>\n",
       "      <th>0ab49580-c84f-44d4-875f-d83760ea2cfe</th>\n",
       "      <td>pop</td>\n",
       "      <td>Maroon 5</td>\n",
       "    </tr>\n",
       "    <tr>\n",
       "      <th>0ab49580-c84f-44d4-875f-d83760ea2cfe</th>\n",
       "      <td>dance-pop</td>\n",
       "      <td>Maroon 5</td>\n",
       "    </tr>\n",
       "    <tr>\n",
       "      <th>0ab49580-c84f-44d4-875f-d83760ea2cfe</th>\n",
       "      <td>automod ng</td>\n",
       "      <td>Maroon 5</td>\n",
       "    </tr>\n",
       "    <tr>\n",
       "      <th>0ab49580-c84f-44d4-875f-d83760ea2cfe</th>\n",
       "      <td>pop/rock</td>\n",
       "      <td>Maroon 5</td>\n",
       "    </tr>\n",
       "    <tr>\n",
       "      <th>0ab49580-c84f-44d4-875f-d83760ea2cfe</th>\n",
       "      <td>fixme label mess</td>\n",
       "      <td>Maroon 5</td>\n",
       "    </tr>\n",
       "  </tbody>\n",
       "</table>\n",
       "</div>"
      ],
      "text/plain": [
       "                                                 tagname    Artist\n",
       "MBID                                                              \n",
       "0ab49580-c84f-44d4-875f-d83760ea2cfe            slow pop  Maroon 5\n",
       "0ab49580-c84f-44d4-875f-d83760ea2cfe                rock  Maroon 5\n",
       "0ab49580-c84f-44d4-875f-d83760ea2cfe           funk rock  Maroon 5\n",
       "0ab49580-c84f-44d4-875f-d83760ea2cfe          electropop  Maroon 5\n",
       "0ab49580-c84f-44d4-875f-d83760ea2cfe               dance  Maroon 5\n",
       "0ab49580-c84f-44d4-875f-d83760ea2cfe      rock and indie  Maroon 5\n",
       "0ab49580-c84f-44d4-875f-d83760ea2cfe            pop rock  Maroon 5\n",
       "0ab49580-c84f-44d4-875f-d83760ea2cfe  adult contemporary  Maroon 5\n",
       "0ab49580-c84f-44d4-875f-d83760ea2cfe                 pop  Maroon 5\n",
       "0ab49580-c84f-44d4-875f-d83760ea2cfe           dance-pop  Maroon 5\n",
       "0ab49580-c84f-44d4-875f-d83760ea2cfe          automod ng  Maroon 5\n",
       "0ab49580-c84f-44d4-875f-d83760ea2cfe            pop/rock  Maroon 5\n",
       "0ab49580-c84f-44d4-875f-d83760ea2cfe    fixme label mess  Maroon 5"
      ]
     },
     "execution_count": 132,
     "metadata": {},
     "output_type": "execute_result"
    }
   ],
   "source": [
    "x"
   ]
  },
  {
   "cell_type": "code",
   "execution_count": 133,
   "metadata": {},
   "outputs": [],
   "source": [
    "x = this.groupby(['MBID']).groups"
   ]
  },
  {
   "cell_type": "code",
   "execution_count": 134,
   "metadata": {
    "scrolled": false
   },
   "outputs": [
    {
     "data": {
      "text/plain": [
       "Index([u'0ab49580-c84f-44d4-875f-d83760ea2cfe',\n",
       "       u'0ab49580-c84f-44d4-875f-d83760ea2cfe',\n",
       "       u'0ab49580-c84f-44d4-875f-d83760ea2cfe',\n",
       "       u'0ab49580-c84f-44d4-875f-d83760ea2cfe',\n",
       "       u'0ab49580-c84f-44d4-875f-d83760ea2cfe',\n",
       "       u'0ab49580-c84f-44d4-875f-d83760ea2cfe',\n",
       "       u'0ab49580-c84f-44d4-875f-d83760ea2cfe',\n",
       "       u'0ab49580-c84f-44d4-875f-d83760ea2cfe',\n",
       "       u'0ab49580-c84f-44d4-875f-d83760ea2cfe',\n",
       "       u'0ab49580-c84f-44d4-875f-d83760ea2cfe',\n",
       "       u'0ab49580-c84f-44d4-875f-d83760ea2cfe',\n",
       "       u'0ab49580-c84f-44d4-875f-d83760ea2cfe',\n",
       "       u'0ab49580-c84f-44d4-875f-d83760ea2cfe'],\n",
       "      dtype='object', name=u'MBID')"
      ]
     },
     "execution_count": 134,
     "metadata": {},
     "output_type": "execute_result"
    }
   ],
   "source": [
    "x['0ab49580-c84f-44d4-875f-d83760ea2cfe']"
   ]
  },
  {
   "cell_type": "code",
   "execution_count": null,
   "metadata": {},
   "outputs": [],
   "source": []
  },
  {
   "cell_type": "code",
   "execution_count": null,
   "metadata": {},
   "outputs": [],
   "source": []
  }
 ],
 "metadata": {
  "kernelspec": {
   "display_name": "Python 2",
   "language": "python",
   "name": "python2"
  },
  "language_info": {
   "codemirror_mode": {
    "name": "ipython",
    "version": 2
   },
   "file_extension": ".py",
   "mimetype": "text/x-python",
   "name": "python",
   "nbconvert_exporter": "python",
   "pygments_lexer": "ipython2",
   "version": "2.7.14"
  }
 },
 "nbformat": 4,
 "nbformat_minor": 2
}
