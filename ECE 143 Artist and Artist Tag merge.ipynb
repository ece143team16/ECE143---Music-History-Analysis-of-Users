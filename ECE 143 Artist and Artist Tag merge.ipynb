{
 "cells": [
  {
   "cell_type": "code",
   "execution_count": 185,
   "metadata": {},
   "outputs": [],
   "source": [
    "import pandas as pd\n",
    "artist = pd.read_csv('/Users/humbe/Downloads/artist_refined.csv', delimiter = '\\t')\n",
    "artist_tag = pd.read_csv('/Users/humbe/Downloads/artist_tag.csv', delimiter = '\\t')\n",
    "tag_table = pd.read_csv('/Users/humbe/Downloads/tag.txt', delimiter = '\\t')"
   ]
  },
  {
   "cell_type": "code",
   "execution_count": 186,
   "metadata": {
    "scrolled": true
   },
   "outputs": [
    {
     "data": {
      "text/html": [
       "<div>\n",
       "<style scoped>\n",
       "    .dataframe tbody tr th:only-of-type {\n",
       "        vertical-align: middle;\n",
       "    }\n",
       "\n",
       "    .dataframe tbody tr th {\n",
       "        vertical-align: top;\n",
       "    }\n",
       "\n",
       "    .dataframe thead th {\n",
       "        text-align: right;\n",
       "    }\n",
       "</style>\n",
       "<table border=\"1\" class=\"dataframe\">\n",
       "  <thead>\n",
       "    <tr style=\"text-align: right;\">\n",
       "      <th></th>\n",
       "      <th>pkID</th>\n",
       "      <th>MBID</th>\n",
       "      <th>Artist</th>\n",
       "    </tr>\n",
       "  </thead>\n",
       "  <tbody>\n",
       "    <tr>\n",
       "      <th>0</th>\n",
       "      <td>805192</td>\n",
       "      <td>8972b1c1-6482-4750-b51f-596d2edea8b1</td>\n",
       "      <td>WIK▲N</td>\n",
       "    </tr>\n",
       "    <tr>\n",
       "      <th>1</th>\n",
       "      <td>371203</td>\n",
       "      <td>49add228-eac5-4de8-836c-d75cde7369c3</td>\n",
       "      <td>Pete Moutso</td>\n",
       "    </tr>\n",
       "    <tr>\n",
       "      <th>2</th>\n",
       "      <td>273232</td>\n",
       "      <td>c112a400-af49-4665-8bba-741531d962a1</td>\n",
       "      <td>Zachary</td>\n",
       "    </tr>\n",
       "    <tr>\n",
       "      <th>3</th>\n",
       "      <td>101060</td>\n",
       "      <td>ca3f3ee1-c4a7-4bac-a16a-0b888a396c6b</td>\n",
       "      <td>The Silhouettes</td>\n",
       "    </tr>\n",
       "    <tr>\n",
       "      <th>4</th>\n",
       "      <td>145773</td>\n",
       "      <td>7b4a548e-a01a-49b7-82e7-b49efeb9732c</td>\n",
       "      <td>Aric Leavitt</td>\n",
       "    </tr>\n",
       "  </tbody>\n",
       "</table>\n",
       "</div>"
      ],
      "text/plain": [
       "     pkID                                  MBID           Artist\n",
       "0  805192  8972b1c1-6482-4750-b51f-596d2edea8b1            WIK▲N\n",
       "1  371203  49add228-eac5-4de8-836c-d75cde7369c3      Pete Moutso\n",
       "2  273232  c112a400-af49-4665-8bba-741531d962a1          Zachary\n",
       "3  101060  ca3f3ee1-c4a7-4bac-a16a-0b888a396c6b  The Silhouettes\n",
       "4  145773  7b4a548e-a01a-49b7-82e7-b49efeb9732c     Aric Leavitt"
      ]
     },
     "execution_count": 186,
     "metadata": {},
     "output_type": "execute_result"
    }
   ],
   "source": [
    "artist.head()"
   ]
  },
  {
   "cell_type": "code",
   "execution_count": 187,
   "metadata": {},
   "outputs": [
    {
     "data": {
      "text/plain": [
       "(1356202, 3)"
      ]
     },
     "execution_count": 187,
     "metadata": {},
     "output_type": "execute_result"
    }
   ],
   "source": [
    "artist.shape"
   ]
  },
  {
   "cell_type": "code",
   "execution_count": 188,
   "metadata": {},
   "outputs": [
    {
     "data": {
      "text/html": [
       "<div>\n",
       "<style scoped>\n",
       "    .dataframe tbody tr th:only-of-type {\n",
       "        vertical-align: middle;\n",
       "    }\n",
       "\n",
       "    .dataframe tbody tr th {\n",
       "        vertical-align: top;\n",
       "    }\n",
       "\n",
       "    .dataframe thead th {\n",
       "        text-align: right;\n",
       "    }\n",
       "</style>\n",
       "<table border=\"1\" class=\"dataframe\">\n",
       "  <thead>\n",
       "    <tr style=\"text-align: right;\">\n",
       "      <th></th>\n",
       "      <th>pk ID</th>\n",
       "      <th>tag ID</th>\n",
       "    </tr>\n",
       "  </thead>\n",
       "  <tbody>\n",
       "    <tr>\n",
       "      <th>0</th>\n",
       "      <td>468800</td>\n",
       "      <td>29</td>\n",
       "    </tr>\n",
       "    <tr>\n",
       "      <th>1</th>\n",
       "      <td>522545</td>\n",
       "      <td>63294</td>\n",
       "    </tr>\n",
       "    <tr>\n",
       "      <th>2</th>\n",
       "      <td>31390</td>\n",
       "      <td>173</td>\n",
       "    </tr>\n",
       "    <tr>\n",
       "      <th>3</th>\n",
       "      <td>108404</td>\n",
       "      <td>43</td>\n",
       "    </tr>\n",
       "    <tr>\n",
       "      <th>4</th>\n",
       "      <td>108404</td>\n",
       "      <td>271</td>\n",
       "    </tr>\n",
       "  </tbody>\n",
       "</table>\n",
       "</div>"
      ],
      "text/plain": [
       "    pk ID  tag ID\n",
       "0  468800      29\n",
       "1  522545   63294\n",
       "2   31390     173\n",
       "3  108404      43\n",
       "4  108404     271"
      ]
     },
     "execution_count": 188,
     "metadata": {},
     "output_type": "execute_result"
    }
   ],
   "source": [
    "artist_tag.head()"
   ]
  },
  {
   "cell_type": "code",
   "execution_count": 189,
   "metadata": {},
   "outputs": [
    {
     "data": {
      "text/plain": [
       "(249087, 2)"
      ]
     },
     "execution_count": 189,
     "metadata": {},
     "output_type": "execute_result"
    }
   ],
   "source": [
    "artist_tag.shape"
   ]
  },
  {
   "cell_type": "code",
   "execution_count": 190,
   "metadata": {
    "scrolled": true
   },
   "outputs": [
    {
     "data": {
      "text/html": [
       "<div>\n",
       "<style scoped>\n",
       "    .dataframe tbody tr th:only-of-type {\n",
       "        vertical-align: middle;\n",
       "    }\n",
       "\n",
       "    .dataframe tbody tr th {\n",
       "        vertical-align: top;\n",
       "    }\n",
       "\n",
       "    .dataframe thead th {\n",
       "        text-align: right;\n",
       "    }\n",
       "</style>\n",
       "<table border=\"1\" class=\"dataframe\">\n",
       "  <thead>\n",
       "    <tr style=\"text-align: right;\">\n",
       "      <th></th>\n",
       "      <th>tag ID</th>\n",
       "      <th>tagname</th>\n",
       "    </tr>\n",
       "  </thead>\n",
       "  <tbody>\n",
       "    <tr>\n",
       "      <th>0</th>\n",
       "      <td>95</td>\n",
       "      <td>finnish</td>\n",
       "    </tr>\n",
       "    <tr>\n",
       "      <th>1</th>\n",
       "      <td>23</td>\n",
       "      <td>slovak</td>\n",
       "    </tr>\n",
       "    <tr>\n",
       "      <th>2</th>\n",
       "      <td>801</td>\n",
       "      <td>iowa</td>\n",
       "    </tr>\n",
       "    <tr>\n",
       "      <th>3</th>\n",
       "      <td>4</td>\n",
       "      <td>groundbreaking</td>\n",
       "    </tr>\n",
       "    <tr>\n",
       "      <th>4</th>\n",
       "      <td>130</td>\n",
       "      <td>taiwanese</td>\n",
       "    </tr>\n",
       "  </tbody>\n",
       "</table>\n",
       "</div>"
      ],
      "text/plain": [
       "   tag ID         tagname\n",
       "0      95         finnish\n",
       "1      23          slovak\n",
       "2     801            iowa\n",
       "3       4  groundbreaking\n",
       "4     130       taiwanese"
      ]
     },
     "execution_count": 190,
     "metadata": {},
     "output_type": "execute_result"
    }
   ],
   "source": [
    "tag_table.head()"
   ]
  },
  {
   "cell_type": "code",
   "execution_count": 191,
   "metadata": {},
   "outputs": [
    {
     "data": {
      "text/plain": [
       "(79316, 2)"
      ]
     },
     "execution_count": 191,
     "metadata": {},
     "output_type": "execute_result"
    }
   ],
   "source": [
    "tag_table.shape"
   ]
  },
  {
   "cell_type": "code",
   "execution_count": 192,
   "metadata": {},
   "outputs": [],
   "source": [
    "new_table = artist_tag.merge(artist, how = 'right', left_on = 'pk ID', right_on = 'pkID')"
   ]
  },
  {
   "cell_type": "code",
   "execution_count": 193,
   "metadata": {},
   "outputs": [
    {
     "data": {
      "text/plain": [
       "(1512517, 5)"
      ]
     },
     "execution_count": 193,
     "metadata": {},
     "output_type": "execute_result"
    }
   ],
   "source": [
    "new_table.shape"
   ]
  },
  {
   "cell_type": "code",
   "execution_count": 194,
   "metadata": {},
   "outputs": [
    {
     "data": {
      "text/html": [
       "<div>\n",
       "<style scoped>\n",
       "    .dataframe tbody tr th:only-of-type {\n",
       "        vertical-align: middle;\n",
       "    }\n",
       "\n",
       "    .dataframe tbody tr th {\n",
       "        vertical-align: top;\n",
       "    }\n",
       "\n",
       "    .dataframe thead th {\n",
       "        text-align: right;\n",
       "    }\n",
       "</style>\n",
       "<table border=\"1\" class=\"dataframe\">\n",
       "  <thead>\n",
       "    <tr style=\"text-align: right;\">\n",
       "      <th></th>\n",
       "      <th>pk ID</th>\n",
       "      <th>tag ID</th>\n",
       "      <th>pkID</th>\n",
       "      <th>MBID</th>\n",
       "      <th>Artist</th>\n",
       "    </tr>\n",
       "  </thead>\n",
       "  <tbody>\n",
       "    <tr>\n",
       "      <th>0</th>\n",
       "      <td>468800.0</td>\n",
       "      <td>29.0</td>\n",
       "      <td>468800</td>\n",
       "      <td>8af61e3f-fb60-484a-a5e7-1298f439ca4c</td>\n",
       "      <td>Citadel</td>\n",
       "    </tr>\n",
       "    <tr>\n",
       "      <th>1</th>\n",
       "      <td>522545.0</td>\n",
       "      <td>63294.0</td>\n",
       "      <td>522545</td>\n",
       "      <td>e6ba541b-3360-4368-8269-b9de09855e53</td>\n",
       "      <td>Robert Fuchs</td>\n",
       "    </tr>\n",
       "    <tr>\n",
       "      <th>2</th>\n",
       "      <td>522545.0</td>\n",
       "      <td>670.0</td>\n",
       "      <td>522545</td>\n",
       "      <td>e6ba541b-3360-4368-8269-b9de09855e53</td>\n",
       "      <td>Robert Fuchs</td>\n",
       "    </tr>\n",
       "    <tr>\n",
       "      <th>3</th>\n",
       "      <td>522545.0</td>\n",
       "      <td>15.0</td>\n",
       "      <td>522545</td>\n",
       "      <td>e6ba541b-3360-4368-8269-b9de09855e53</td>\n",
       "      <td>Robert Fuchs</td>\n",
       "    </tr>\n",
       "    <tr>\n",
       "      <th>4</th>\n",
       "      <td>31390.0</td>\n",
       "      <td>173.0</td>\n",
       "      <td>31390</td>\n",
       "      <td>69632f9c-31eb-43d5-a864-e73ac72efc66</td>\n",
       "      <td>Behemoth</td>\n",
       "    </tr>\n",
       "  </tbody>\n",
       "</table>\n",
       "</div>"
      ],
      "text/plain": [
       "      pk ID   tag ID    pkID                                  MBID  \\\n",
       "0  468800.0     29.0  468800  8af61e3f-fb60-484a-a5e7-1298f439ca4c   \n",
       "1  522545.0  63294.0  522545  e6ba541b-3360-4368-8269-b9de09855e53   \n",
       "2  522545.0    670.0  522545  e6ba541b-3360-4368-8269-b9de09855e53   \n",
       "3  522545.0     15.0  522545  e6ba541b-3360-4368-8269-b9de09855e53   \n",
       "4   31390.0    173.0   31390  69632f9c-31eb-43d5-a864-e73ac72efc66   \n",
       "\n",
       "         Artist  \n",
       "0       Citadel  \n",
       "1  Robert Fuchs  \n",
       "2  Robert Fuchs  \n",
       "3  Robert Fuchs  \n",
       "4      Behemoth  "
      ]
     },
     "execution_count": 194,
     "metadata": {},
     "output_type": "execute_result"
    }
   ],
   "source": [
    "new_table.head()"
   ]
  },
  {
   "cell_type": "code",
   "execution_count": 195,
   "metadata": {},
   "outputs": [],
   "source": [
    "newer_table = tag_table.merge(new_table, how = 'right', left_on = 'tag ID', right_on = 'tag ID')"
   ]
  },
  {
   "cell_type": "code",
   "execution_count": 196,
   "metadata": {},
   "outputs": [
    {
     "data": {
      "text/plain": [
       "(1512517, 6)"
      ]
     },
     "execution_count": 196,
     "metadata": {},
     "output_type": "execute_result"
    }
   ],
   "source": [
    "newer_table.shape"
   ]
  },
  {
   "cell_type": "code",
   "execution_count": 197,
   "metadata": {},
   "outputs": [
    {
     "data": {
      "text/html": [
       "<div>\n",
       "<style scoped>\n",
       "    .dataframe tbody tr th:only-of-type {\n",
       "        vertical-align: middle;\n",
       "    }\n",
       "\n",
       "    .dataframe tbody tr th {\n",
       "        vertical-align: top;\n",
       "    }\n",
       "\n",
       "    .dataframe thead th {\n",
       "        text-align: right;\n",
       "    }\n",
       "</style>\n",
       "<table border=\"1\" class=\"dataframe\">\n",
       "  <thead>\n",
       "    <tr style=\"text-align: right;\">\n",
       "      <th></th>\n",
       "      <th>tag ID</th>\n",
       "      <th>tagname</th>\n",
       "      <th>pk ID</th>\n",
       "      <th>pkID</th>\n",
       "      <th>MBID</th>\n",
       "      <th>Artist</th>\n",
       "    </tr>\n",
       "  </thead>\n",
       "  <tbody>\n",
       "    <tr>\n",
       "      <th>0</th>\n",
       "      <td>95.0</td>\n",
       "      <td>finnish</td>\n",
       "      <td>190302.0</td>\n",
       "      <td>190302</td>\n",
       "      <td>c054ea6b-c585-41eb-ae7e-4b0ca43308ff</td>\n",
       "      <td>Wintersun</td>\n",
       "    </tr>\n",
       "    <tr>\n",
       "      <th>1</th>\n",
       "      <td>95.0</td>\n",
       "      <td>finnish</td>\n",
       "      <td>523317.0</td>\n",
       "      <td>523317</td>\n",
       "      <td>0ac956e9-5b07-4389-8d32-95f332a5b397</td>\n",
       "      <td>The Puritan</td>\n",
       "    </tr>\n",
       "    <tr>\n",
       "      <th>2</th>\n",
       "      <td>95.0</td>\n",
       "      <td>finnish</td>\n",
       "      <td>10531.0</td>\n",
       "      <td>10531</td>\n",
       "      <td>f57e14e4-b030-467c-b202-539453f504ec</td>\n",
       "      <td>Children of Bodom</td>\n",
       "    </tr>\n",
       "    <tr>\n",
       "      <th>3</th>\n",
       "      <td>95.0</td>\n",
       "      <td>finnish</td>\n",
       "      <td>2062.0</td>\n",
       "      <td>2062</td>\n",
       "      <td>00a9f935-ba93-4fc8-a33a-993abe9c936b</td>\n",
       "      <td>Nightwish</td>\n",
       "    </tr>\n",
       "    <tr>\n",
       "      <th>4</th>\n",
       "      <td>95.0</td>\n",
       "      <td>finnish</td>\n",
       "      <td>667821.0</td>\n",
       "      <td>667821</td>\n",
       "      <td>f15430f3-54b8-4ef0-9aad-fa959c59c92c</td>\n",
       "      <td>Mr. G+Trrr</td>\n",
       "    </tr>\n",
       "  </tbody>\n",
       "</table>\n",
       "</div>"
      ],
      "text/plain": [
       "   tag ID  tagname     pk ID    pkID                                  MBID  \\\n",
       "0    95.0  finnish  190302.0  190302  c054ea6b-c585-41eb-ae7e-4b0ca43308ff   \n",
       "1    95.0  finnish  523317.0  523317  0ac956e9-5b07-4389-8d32-95f332a5b397   \n",
       "2    95.0  finnish   10531.0   10531  f57e14e4-b030-467c-b202-539453f504ec   \n",
       "3    95.0  finnish    2062.0    2062  00a9f935-ba93-4fc8-a33a-993abe9c936b   \n",
       "4    95.0  finnish  667821.0  667821  f15430f3-54b8-4ef0-9aad-fa959c59c92c   \n",
       "\n",
       "              Artist  \n",
       "0          Wintersun  \n",
       "1        The Puritan  \n",
       "2  Children of Bodom  \n",
       "3          Nightwish  \n",
       "4         Mr. G+Trrr  "
      ]
     },
     "execution_count": 197,
     "metadata": {},
     "output_type": "execute_result"
    }
   ],
   "source": [
    "newer_table.head()"
   ]
  },
  {
   "cell_type": "code",
   "execution_count": 198,
   "metadata": {},
   "outputs": [],
   "source": [
    "right_table = newer_table.drop('pk ID', axis = 1)"
   ]
  },
  {
   "cell_type": "code",
   "execution_count": 199,
   "metadata": {},
   "outputs": [
    {
     "data": {
      "text/html": [
       "<div>\n",
       "<style scoped>\n",
       "    .dataframe tbody tr th:only-of-type {\n",
       "        vertical-align: middle;\n",
       "    }\n",
       "\n",
       "    .dataframe tbody tr th {\n",
       "        vertical-align: top;\n",
       "    }\n",
       "\n",
       "    .dataframe thead th {\n",
       "        text-align: right;\n",
       "    }\n",
       "</style>\n",
       "<table border=\"1\" class=\"dataframe\">\n",
       "  <thead>\n",
       "    <tr style=\"text-align: right;\">\n",
       "      <th></th>\n",
       "      <th>tag ID</th>\n",
       "      <th>tagname</th>\n",
       "      <th>pkID</th>\n",
       "      <th>MBID</th>\n",
       "      <th>Artist</th>\n",
       "    </tr>\n",
       "  </thead>\n",
       "  <tbody>\n",
       "    <tr>\n",
       "      <th>0</th>\n",
       "      <td>95.0</td>\n",
       "      <td>finnish</td>\n",
       "      <td>190302</td>\n",
       "      <td>c054ea6b-c585-41eb-ae7e-4b0ca43308ff</td>\n",
       "      <td>Wintersun</td>\n",
       "    </tr>\n",
       "    <tr>\n",
       "      <th>1</th>\n",
       "      <td>95.0</td>\n",
       "      <td>finnish</td>\n",
       "      <td>523317</td>\n",
       "      <td>0ac956e9-5b07-4389-8d32-95f332a5b397</td>\n",
       "      <td>The Puritan</td>\n",
       "    </tr>\n",
       "    <tr>\n",
       "      <th>2</th>\n",
       "      <td>95.0</td>\n",
       "      <td>finnish</td>\n",
       "      <td>10531</td>\n",
       "      <td>f57e14e4-b030-467c-b202-539453f504ec</td>\n",
       "      <td>Children of Bodom</td>\n",
       "    </tr>\n",
       "    <tr>\n",
       "      <th>3</th>\n",
       "      <td>95.0</td>\n",
       "      <td>finnish</td>\n",
       "      <td>2062</td>\n",
       "      <td>00a9f935-ba93-4fc8-a33a-993abe9c936b</td>\n",
       "      <td>Nightwish</td>\n",
       "    </tr>\n",
       "    <tr>\n",
       "      <th>4</th>\n",
       "      <td>95.0</td>\n",
       "      <td>finnish</td>\n",
       "      <td>667821</td>\n",
       "      <td>f15430f3-54b8-4ef0-9aad-fa959c59c92c</td>\n",
       "      <td>Mr. G+Trrr</td>\n",
       "    </tr>\n",
       "  </tbody>\n",
       "</table>\n",
       "</div>"
      ],
      "text/plain": [
       "   tag ID  tagname    pkID                                  MBID  \\\n",
       "0    95.0  finnish  190302  c054ea6b-c585-41eb-ae7e-4b0ca43308ff   \n",
       "1    95.0  finnish  523317  0ac956e9-5b07-4389-8d32-95f332a5b397   \n",
       "2    95.0  finnish   10531  f57e14e4-b030-467c-b202-539453f504ec   \n",
       "3    95.0  finnish    2062  00a9f935-ba93-4fc8-a33a-993abe9c936b   \n",
       "4    95.0  finnish  667821  f15430f3-54b8-4ef0-9aad-fa959c59c92c   \n",
       "\n",
       "              Artist  \n",
       "0          Wintersun  \n",
       "1        The Puritan  \n",
       "2  Children of Bodom  \n",
       "3          Nightwish  \n",
       "4         Mr. G+Trrr  "
      ]
     },
     "execution_count": 199,
     "metadata": {},
     "output_type": "execute_result"
    }
   ],
   "source": [
    "right_table.head()"
   ]
  },
  {
   "cell_type": "code",
   "execution_count": 200,
   "metadata": {},
   "outputs": [
    {
     "data": {
      "text/html": [
       "<div>\n",
       "<style scoped>\n",
       "    .dataframe tbody tr th:only-of-type {\n",
       "        vertical-align: middle;\n",
       "    }\n",
       "\n",
       "    .dataframe tbody tr th {\n",
       "        vertical-align: top;\n",
       "    }\n",
       "\n",
       "    .dataframe thead th {\n",
       "        text-align: right;\n",
       "    }\n",
       "</style>\n",
       "<table border=\"1\" class=\"dataframe\">\n",
       "  <thead>\n",
       "    <tr style=\"text-align: right;\">\n",
       "      <th></th>\n",
       "      <th>tag ID</th>\n",
       "      <th>tagname</th>\n",
       "      <th>pkID</th>\n",
       "      <th>MBID</th>\n",
       "      <th>Artist</th>\n",
       "    </tr>\n",
       "  </thead>\n",
       "  <tbody>\n",
       "    <tr>\n",
       "      <th>0</th>\n",
       "      <td>95.0</td>\n",
       "      <td>finnish</td>\n",
       "      <td>190302</td>\n",
       "      <td>c054ea6b-c585-41eb-ae7e-4b0ca43308ff</td>\n",
       "      <td>Wintersun</td>\n",
       "    </tr>\n",
       "    <tr>\n",
       "      <th>1</th>\n",
       "      <td>95.0</td>\n",
       "      <td>finnish</td>\n",
       "      <td>523317</td>\n",
       "      <td>0ac956e9-5b07-4389-8d32-95f332a5b397</td>\n",
       "      <td>The Puritan</td>\n",
       "    </tr>\n",
       "    <tr>\n",
       "      <th>2</th>\n",
       "      <td>95.0</td>\n",
       "      <td>finnish</td>\n",
       "      <td>10531</td>\n",
       "      <td>f57e14e4-b030-467c-b202-539453f504ec</td>\n",
       "      <td>Children of Bodom</td>\n",
       "    </tr>\n",
       "    <tr>\n",
       "      <th>3</th>\n",
       "      <td>95.0</td>\n",
       "      <td>finnish</td>\n",
       "      <td>2062</td>\n",
       "      <td>00a9f935-ba93-4fc8-a33a-993abe9c936b</td>\n",
       "      <td>Nightwish</td>\n",
       "    </tr>\n",
       "    <tr>\n",
       "      <th>4</th>\n",
       "      <td>95.0</td>\n",
       "      <td>finnish</td>\n",
       "      <td>667821</td>\n",
       "      <td>f15430f3-54b8-4ef0-9aad-fa959c59c92c</td>\n",
       "      <td>Mr. G+Trrr</td>\n",
       "    </tr>\n",
       "  </tbody>\n",
       "</table>\n",
       "</div>"
      ],
      "text/plain": [
       "   tag ID  tagname    pkID                                  MBID  \\\n",
       "0    95.0  finnish  190302  c054ea6b-c585-41eb-ae7e-4b0ca43308ff   \n",
       "1    95.0  finnish  523317  0ac956e9-5b07-4389-8d32-95f332a5b397   \n",
       "2    95.0  finnish   10531  f57e14e4-b030-467c-b202-539453f504ec   \n",
       "3    95.0  finnish    2062  00a9f935-ba93-4fc8-a33a-993abe9c936b   \n",
       "4    95.0  finnish  667821  f15430f3-54b8-4ef0-9aad-fa959c59c92c   \n",
       "\n",
       "              Artist  \n",
       "0          Wintersun  \n",
       "1        The Puritan  \n",
       "2  Children of Bodom  \n",
       "3          Nightwish  \n",
       "4         Mr. G+Trrr  "
      ]
     },
     "execution_count": 200,
     "metadata": {},
     "output_type": "execute_result"
    }
   ],
   "source": [
    "right_table.head()"
   ]
  },
  {
   "cell_type": "code",
   "execution_count": 201,
   "metadata": {},
   "outputs": [
    {
     "data": {
      "text/plain": [
       "(1512517, 5)"
      ]
     },
     "execution_count": 201,
     "metadata": {},
     "output_type": "execute_result"
    }
   ],
   "source": [
    "right_table.shape"
   ]
  },
  {
   "cell_type": "code",
   "execution_count": 202,
   "metadata": {},
   "outputs": [],
   "source": [
    "final_artist_table = right_table.drop(['tag ID','pkID'], axis = 1)"
   ]
  },
  {
   "cell_type": "code",
   "execution_count": 203,
   "metadata": {},
   "outputs": [
    {
     "data": {
      "text/html": [
       "<div>\n",
       "<style scoped>\n",
       "    .dataframe tbody tr th:only-of-type {\n",
       "        vertical-align: middle;\n",
       "    }\n",
       "\n",
       "    .dataframe tbody tr th {\n",
       "        vertical-align: top;\n",
       "    }\n",
       "\n",
       "    .dataframe thead th {\n",
       "        text-align: right;\n",
       "    }\n",
       "</style>\n",
       "<table border=\"1\" class=\"dataframe\">\n",
       "  <thead>\n",
       "    <tr style=\"text-align: right;\">\n",
       "      <th></th>\n",
       "      <th>tagname</th>\n",
       "      <th>MBID</th>\n",
       "      <th>Artist</th>\n",
       "    </tr>\n",
       "  </thead>\n",
       "  <tbody>\n",
       "    <tr>\n",
       "      <th>0</th>\n",
       "      <td>finnish</td>\n",
       "      <td>c054ea6b-c585-41eb-ae7e-4b0ca43308ff</td>\n",
       "      <td>Wintersun</td>\n",
       "    </tr>\n",
       "    <tr>\n",
       "      <th>1</th>\n",
       "      <td>finnish</td>\n",
       "      <td>0ac956e9-5b07-4389-8d32-95f332a5b397</td>\n",
       "      <td>The Puritan</td>\n",
       "    </tr>\n",
       "    <tr>\n",
       "      <th>2</th>\n",
       "      <td>finnish</td>\n",
       "      <td>f57e14e4-b030-467c-b202-539453f504ec</td>\n",
       "      <td>Children of Bodom</td>\n",
       "    </tr>\n",
       "    <tr>\n",
       "      <th>3</th>\n",
       "      <td>finnish</td>\n",
       "      <td>00a9f935-ba93-4fc8-a33a-993abe9c936b</td>\n",
       "      <td>Nightwish</td>\n",
       "    </tr>\n",
       "    <tr>\n",
       "      <th>4</th>\n",
       "      <td>finnish</td>\n",
       "      <td>f15430f3-54b8-4ef0-9aad-fa959c59c92c</td>\n",
       "      <td>Mr. G+Trrr</td>\n",
       "    </tr>\n",
       "  </tbody>\n",
       "</table>\n",
       "</div>"
      ],
      "text/plain": [
       "   tagname                                  MBID             Artist\n",
       "0  finnish  c054ea6b-c585-41eb-ae7e-4b0ca43308ff          Wintersun\n",
       "1  finnish  0ac956e9-5b07-4389-8d32-95f332a5b397        The Puritan\n",
       "2  finnish  f57e14e4-b030-467c-b202-539453f504ec  Children of Bodom\n",
       "3  finnish  00a9f935-ba93-4fc8-a33a-993abe9c936b          Nightwish\n",
       "4  finnish  f15430f3-54b8-4ef0-9aad-fa959c59c92c         Mr. G+Trrr"
      ]
     },
     "execution_count": 203,
     "metadata": {},
     "output_type": "execute_result"
    }
   ],
   "source": [
    "final_artist_table.head()"
   ]
  },
  {
   "cell_type": "code",
   "execution_count": 204,
   "metadata": {},
   "outputs": [
    {
     "data": {
      "text/plain": [
       "'finnish'"
      ]
     },
     "execution_count": 204,
     "metadata": {},
     "output_type": "execute_result"
    }
   ],
   "source": [
    "final_artist_table.loc[0,'tagname']"
   ]
  },
  {
   "cell_type": "code",
   "execution_count": 205,
   "metadata": {},
   "outputs": [],
   "source": [
    "Maroon = final_artist_table[final_artist_table.Artist == 'Maroon 5']"
   ]
  },
  {
   "cell_type": "code",
   "execution_count": 206,
   "metadata": {
    "scrolled": false
   },
   "outputs": [
    {
     "data": {
      "text/html": [
       "<div>\n",
       "<style scoped>\n",
       "    .dataframe tbody tr th:only-of-type {\n",
       "        vertical-align: middle;\n",
       "    }\n",
       "\n",
       "    .dataframe tbody tr th {\n",
       "        vertical-align: top;\n",
       "    }\n",
       "\n",
       "    .dataframe thead th {\n",
       "        text-align: right;\n",
       "    }\n",
       "</style>\n",
       "<table border=\"1\" class=\"dataframe\">\n",
       "  <thead>\n",
       "    <tr style=\"text-align: right;\">\n",
       "      <th></th>\n",
       "      <th>tagname</th>\n",
       "      <th>MBID</th>\n",
       "      <th>Artist</th>\n",
       "    </tr>\n",
       "  </thead>\n",
       "  <tbody>\n",
       "    <tr>\n",
       "      <th>47503</th>\n",
       "      <td>slow pop</td>\n",
       "      <td>0ab49580-c84f-44d4-875f-d83760ea2cfe</td>\n",
       "      <td>Maroon 5</td>\n",
       "    </tr>\n",
       "    <tr>\n",
       "      <th>88142</th>\n",
       "      <td>rock</td>\n",
       "      <td>0ab49580-c84f-44d4-875f-d83760ea2cfe</td>\n",
       "      <td>Maroon 5</td>\n",
       "    </tr>\n",
       "    <tr>\n",
       "      <th>110600</th>\n",
       "      <td>funk rock</td>\n",
       "      <td>0ab49580-c84f-44d4-875f-d83760ea2cfe</td>\n",
       "      <td>Maroon 5</td>\n",
       "    </tr>\n",
       "    <tr>\n",
       "      <th>119359</th>\n",
       "      <td>electropop</td>\n",
       "      <td>0ab49580-c84f-44d4-875f-d83760ea2cfe</td>\n",
       "      <td>Maroon 5</td>\n",
       "    </tr>\n",
       "    <tr>\n",
       "      <th>132127</th>\n",
       "      <td>dance</td>\n",
       "      <td>0ab49580-c84f-44d4-875f-d83760ea2cfe</td>\n",
       "      <td>Maroon 5</td>\n",
       "    </tr>\n",
       "    <tr>\n",
       "      <th>166881</th>\n",
       "      <td>rock and indie</td>\n",
       "      <td>0ab49580-c84f-44d4-875f-d83760ea2cfe</td>\n",
       "      <td>Maroon 5</td>\n",
       "    </tr>\n",
       "    <tr>\n",
       "      <th>168838</th>\n",
       "      <td>pop rock</td>\n",
       "      <td>0ab49580-c84f-44d4-875f-d83760ea2cfe</td>\n",
       "      <td>Maroon 5</td>\n",
       "    </tr>\n",
       "    <tr>\n",
       "      <th>170377</th>\n",
       "      <td>adult contemporary</td>\n",
       "      <td>0ab49580-c84f-44d4-875f-d83760ea2cfe</td>\n",
       "      <td>Maroon 5</td>\n",
       "    </tr>\n",
       "    <tr>\n",
       "      <th>172372</th>\n",
       "      <td>pop</td>\n",
       "      <td>0ab49580-c84f-44d4-875f-d83760ea2cfe</td>\n",
       "      <td>Maroon 5</td>\n",
       "    </tr>\n",
       "    <tr>\n",
       "      <th>177843</th>\n",
       "      <td>dance-pop</td>\n",
       "      <td>0ab49580-c84f-44d4-875f-d83760ea2cfe</td>\n",
       "      <td>Maroon 5</td>\n",
       "    </tr>\n",
       "    <tr>\n",
       "      <th>202809</th>\n",
       "      <td>automod ng</td>\n",
       "      <td>0ab49580-c84f-44d4-875f-d83760ea2cfe</td>\n",
       "      <td>Maroon 5</td>\n",
       "    </tr>\n",
       "    <tr>\n",
       "      <th>207368</th>\n",
       "      <td>pop/rock</td>\n",
       "      <td>0ab49580-c84f-44d4-875f-d83760ea2cfe</td>\n",
       "      <td>Maroon 5</td>\n",
       "    </tr>\n",
       "    <tr>\n",
       "      <th>216262</th>\n",
       "      <td>fixme label mess</td>\n",
       "      <td>0ab49580-c84f-44d4-875f-d83760ea2cfe</td>\n",
       "      <td>Maroon 5</td>\n",
       "    </tr>\n",
       "  </tbody>\n",
       "</table>\n",
       "</div>"
      ],
      "text/plain": [
       "                   tagname                                  MBID    Artist\n",
       "47503             slow pop  0ab49580-c84f-44d4-875f-d83760ea2cfe  Maroon 5\n",
       "88142                 rock  0ab49580-c84f-44d4-875f-d83760ea2cfe  Maroon 5\n",
       "110600           funk rock  0ab49580-c84f-44d4-875f-d83760ea2cfe  Maroon 5\n",
       "119359          electropop  0ab49580-c84f-44d4-875f-d83760ea2cfe  Maroon 5\n",
       "132127               dance  0ab49580-c84f-44d4-875f-d83760ea2cfe  Maroon 5\n",
       "166881      rock and indie  0ab49580-c84f-44d4-875f-d83760ea2cfe  Maroon 5\n",
       "168838            pop rock  0ab49580-c84f-44d4-875f-d83760ea2cfe  Maroon 5\n",
       "170377  adult contemporary  0ab49580-c84f-44d4-875f-d83760ea2cfe  Maroon 5\n",
       "172372                 pop  0ab49580-c84f-44d4-875f-d83760ea2cfe  Maroon 5\n",
       "177843           dance-pop  0ab49580-c84f-44d4-875f-d83760ea2cfe  Maroon 5\n",
       "202809          automod ng  0ab49580-c84f-44d4-875f-d83760ea2cfe  Maroon 5\n",
       "207368            pop/rock  0ab49580-c84f-44d4-875f-d83760ea2cfe  Maroon 5\n",
       "216262    fixme label mess  0ab49580-c84f-44d4-875f-d83760ea2cfe  Maroon 5"
      ]
     },
     "execution_count": 206,
     "metadata": {},
     "output_type": "execute_result"
    }
   ],
   "source": [
    "Maroon"
   ]
  },
  {
   "cell_type": "code",
   "execution_count": 207,
   "metadata": {},
   "outputs": [],
   "source": [
    "final_artist_table.to_csv('final_artist_table.csv', sep = '\\t', index = False)"
   ]
  },
  {
   "cell_type": "code",
   "execution_count": 208,
   "metadata": {},
   "outputs": [],
   "source": [
    "artist_and_tag_table = pd.read_csv('final_artist_table.csv', delimiter = '\\t')"
   ]
  },
  {
   "cell_type": "code",
   "execution_count": 209,
   "metadata": {},
   "outputs": [
    {
     "data": {
      "text/html": [
       "<div>\n",
       "<style scoped>\n",
       "    .dataframe tbody tr th:only-of-type {\n",
       "        vertical-align: middle;\n",
       "    }\n",
       "\n",
       "    .dataframe tbody tr th {\n",
       "        vertical-align: top;\n",
       "    }\n",
       "\n",
       "    .dataframe thead th {\n",
       "        text-align: right;\n",
       "    }\n",
       "</style>\n",
       "<table border=\"1\" class=\"dataframe\">\n",
       "  <thead>\n",
       "    <tr style=\"text-align: right;\">\n",
       "      <th></th>\n",
       "      <th>tagname</th>\n",
       "      <th>MBID</th>\n",
       "      <th>Artist</th>\n",
       "    </tr>\n",
       "  </thead>\n",
       "  <tbody>\n",
       "    <tr>\n",
       "      <th>0</th>\n",
       "      <td>finnish</td>\n",
       "      <td>c054ea6b-c585-41eb-ae7e-4b0ca43308ff</td>\n",
       "      <td>Wintersun</td>\n",
       "    </tr>\n",
       "    <tr>\n",
       "      <th>1</th>\n",
       "      <td>finnish</td>\n",
       "      <td>0ac956e9-5b07-4389-8d32-95f332a5b397</td>\n",
       "      <td>The Puritan</td>\n",
       "    </tr>\n",
       "    <tr>\n",
       "      <th>2</th>\n",
       "      <td>finnish</td>\n",
       "      <td>f57e14e4-b030-467c-b202-539453f504ec</td>\n",
       "      <td>Children of Bodom</td>\n",
       "    </tr>\n",
       "    <tr>\n",
       "      <th>3</th>\n",
       "      <td>finnish</td>\n",
       "      <td>00a9f935-ba93-4fc8-a33a-993abe9c936b</td>\n",
       "      <td>Nightwish</td>\n",
       "    </tr>\n",
       "    <tr>\n",
       "      <th>4</th>\n",
       "      <td>finnish</td>\n",
       "      <td>f15430f3-54b8-4ef0-9aad-fa959c59c92c</td>\n",
       "      <td>Mr. G+Trrr</td>\n",
       "    </tr>\n",
       "  </tbody>\n",
       "</table>\n",
       "</div>"
      ],
      "text/plain": [
       "   tagname                                  MBID             Artist\n",
       "0  finnish  c054ea6b-c585-41eb-ae7e-4b0ca43308ff          Wintersun\n",
       "1  finnish  0ac956e9-5b07-4389-8d32-95f332a5b397        The Puritan\n",
       "2  finnish  f57e14e4-b030-467c-b202-539453f504ec  Children of Bodom\n",
       "3  finnish  00a9f935-ba93-4fc8-a33a-993abe9c936b          Nightwish\n",
       "4  finnish  f15430f3-54b8-4ef0-9aad-fa959c59c92c         Mr. G+Trrr"
      ]
     },
     "execution_count": 209,
     "metadata": {},
     "output_type": "execute_result"
    }
   ],
   "source": [
    "artist_and_tag_table.head()"
   ]
  },
  {
   "cell_type": "code",
   "execution_count": 210,
   "metadata": {},
   "outputs": [
    {
     "data": {
      "text/plain": [
       "(1512517, 3)"
      ]
     },
     "execution_count": 210,
     "metadata": {},
     "output_type": "execute_result"
    }
   ],
   "source": [
    "artist_and_tag_table.shape"
   ]
  },
  {
   "cell_type": "code",
   "execution_count": 211,
   "metadata": {},
   "outputs": [],
   "source": [
    "MBID_indices_dict = artist_and_tag_table.groupby('MBID').groups"
   ]
  },
  {
   "cell_type": "code",
   "execution_count": 212,
   "metadata": {},
   "outputs": [
    {
     "data": {
      "text/plain": [
       "dict"
      ]
     },
     "execution_count": 212,
     "metadata": {},
     "output_type": "execute_result"
    }
   ],
   "source": [
    "type(MBID_indices_dict)"
   ]
  },
  {
   "cell_type": "code",
   "execution_count": 213,
   "metadata": {},
   "outputs": [
    {
     "data": {
      "text/plain": [
       "1356202"
      ]
     },
     "execution_count": 213,
     "metadata": {},
     "output_type": "execute_result"
    }
   ],
   "source": [
    "len(MBID_indices_dict)"
   ]
  },
  {
   "cell_type": "code",
   "execution_count": 214,
   "metadata": {},
   "outputs": [
    {
     "data": {
      "text/plain": [
       "dict"
      ]
     },
     "execution_count": 214,
     "metadata": {},
     "output_type": "execute_result"
    }
   ],
   "source": [
    "type(MBID_indices_dict)"
   ]
  },
  {
   "cell_type": "code",
   "execution_count": 215,
   "metadata": {},
   "outputs": [
    {
     "data": {
      "text/plain": [
       "1356202"
      ]
     },
     "execution_count": 215,
     "metadata": {},
     "output_type": "execute_result"
    }
   ],
   "source": [
    "len(MBID_indices_dict)"
   ]
  },
  {
   "cell_type": "code",
   "execution_count": 216,
   "metadata": {},
   "outputs": [],
   "source": [
    "MBID_dictionary = {}\n",
    "for key in MBID_indices_dict:\n",
    "    index_list = MBID_indices_dict[key]\n",
    "    tag_list= []\n",
    "    for index in index_list:\n",
    "        tag = artist_and_tag_table.loc[index,'tagname']\n",
    "        tag_list.append(tag)\n",
    "        \n",
    "    MBID_dictionary[key] = tag_list\n"
   ]
  },
  {
   "cell_type": "code",
   "execution_count": 217,
   "metadata": {},
   "outputs": [
    {
     "data": {
      "text/plain": [
       "['slow pop',\n",
       " 'rock',\n",
       " 'funk rock',\n",
       " 'electropop',\n",
       " 'dance',\n",
       " 'rock and indie',\n",
       " 'pop rock',\n",
       " 'adult contemporary',\n",
       " 'pop',\n",
       " 'dance-pop',\n",
       " 'automod ng',\n",
       " 'pop/rock',\n",
       " 'fixme label mess']"
      ]
     },
     "execution_count": 217,
     "metadata": {},
     "output_type": "execute_result"
    }
   ],
   "source": [
    "MBID_dictionary['0ab49580-c84f-44d4-875f-d83760ea2cfe']"
   ]
  },
  {
   "cell_type": "code",
   "execution_count": 219,
   "metadata": {},
   "outputs": [],
   "source": [
    "Maroon_5_tags = MBID_dictionary['0ab49580-c84f-44d4-875f-d83760ea2cfe']"
   ]
  },
  {
   "cell_type": "code",
   "execution_count": 221,
   "metadata": {},
   "outputs": [
    {
     "data": {
      "text/plain": [
       "True"
      ]
     },
     "execution_count": 221,
     "metadata": {},
     "output_type": "execute_result"
    }
   ],
   "source": [
    "'pop' in Maroon_5_tags"
   ]
  },
  {
   "cell_type": "code",
   "execution_count": null,
   "metadata": {},
   "outputs": [],
   "source": []
  }
 ],
 "metadata": {
  "kernelspec": {
   "display_name": "Python 2",
   "language": "python",
   "name": "python2"
  },
  "language_info": {
   "codemirror_mode": {
    "name": "ipython",
    "version": 2
   },
   "file_extension": ".py",
   "mimetype": "text/x-python",
   "name": "python",
   "nbconvert_exporter": "python",
   "pygments_lexer": "ipython2",
   "version": "2.7.14"
  }
 },
 "nbformat": 4,
 "nbformat_minor": 2
}
