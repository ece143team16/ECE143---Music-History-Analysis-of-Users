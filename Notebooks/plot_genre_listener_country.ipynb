{
 "cells": [
  {
   "cell_type": "code",
   "execution_count": 3,
   "metadata": {
    "collapsed": true
   },
   "outputs": [],
   "source": [
    "data = {'BR': {'blue': 0, 'kpop': 2, 'jazz': 46, 'pop': 68, 'disco': 45, 'hiphop': 25, 'rap': 53, 'rock': 72, 'edm': 0}, 'DE': {'blue': 0, 'kpop': 4, 'jazz': 57, 'pop': 73, 'disco': 45, 'hiphop': 47, 'rap': 64, 'rock': 75, 'edm': 14}, 'NL': {'blue': 0, 'kpop': 0, 'jazz': 18, 'pop': 20, 'disco': 17, 'hiphop': 18, 'rap': 20, 'rock': 20, 'edm': 6}, 'UK': {'blue': 0, 'kpop': 2, 'jazz': 64, 'pop': 70, 'disco': 58, 'hiphop': 53, 'rap': 59, 'rock': 71, 'edm': 6}, 'US': {'blue': 0, 'kpop': 8, 'jazz': 145, 'pop': 165, 'disco': 128, 'hiphop': 129, 'rap': 147, 'rock': 168, 'edm': 11}}"
   ]
  },
  {
   "cell_type": "markdown",
   "metadata": {},
   "source": [
    "Use the function user_country_genre( ) in genre_listener_country.py to obtain the data for the number of listeners for each genre in the specified countries"
   ]
  },
  {
   "cell_type": "code",
   "execution_count": 32,
   "metadata": {},
   "outputs": [],
   "source": [
    "tags = ['rock','hiphop','disco','kpop','jazz']\n",
    "country_names = ['US','UK','DE','BR','NL'] # in the order of number of users\n",
    "import numpy as np\n",
    "tmp = np.zeros((5,5), dtype=int)\n",
    "counter_country = 0\n",
    "counter_genre = 0\n",
    "for keys in country_names:\n",
    "    for tag in tags:\n",
    "        tmp[counter_country][counter_genre] = data[keys][tag]\n",
    "        counter_genre +=1\n",
    "    counter_genre = 0    \n",
    "    counter_country +=1"
   ]
  },
  {
   "cell_type": "markdown",
   "metadata": {},
   "source": [
    "Clean the data by creating a numpy array to store the data. The array is arranged in the following way:\n",
    "\n",
    "\n",
    "Each column represents a country in the order of country_names\n",
    "\n",
    "\n",
    "Each row represents a genre in the order of tags"
   ]
  },
  {
   "cell_type": "code",
   "execution_count": 71,
   "metadata": {},
   "outputs": [
    {
     "data": {
      "image/png": "[encoded data removed]",
      "text/plain": [
       "<matplotlib.figure.Figure at 0x7facfc5fa090>"
      ]
     },
     "metadata": {},
     "output_type": "display_data"
    }
   ],
   "source": [
    "import matplotlib.pyplot as plt\n",
    "from matplotlib.ticker import MaxNLocator\n",
    "from collections import namedtuple\n",
    "\n",
    "fig, ax = plt.subplots()\n",
    "\n",
    "index = np.array([0, 4, 8, 12, 16])\n",
    "bar_width = 0.5\n",
    "\n",
    "opacity = 0.4\n",
    "error_config = {'ecolor': '0.3'}\n",
    "\n",
    "rects1 = ax.bar(index, list(tmp[0]), bar_width,\n",
    "                alpha=opacity, color='b',\n",
    "                error_kw=error_config,\n",
    "                label='rock')\n",
    "\n",
    "rects2 = ax.bar(index + bar_width, list(tmp[1]), bar_width,\n",
    "                alpha=opacity, color='r',\n",
    "                error_kw=error_config,\n",
    "                label='hiphop')\n",
    "\n",
    "rects3 = ax.bar(index + bar_width*2, list(tmp[2]), bar_width,\n",
    "                alpha=opacity, color='g',\n",
    "                error_kw=error_config,\n",
    "                label='disco')\n",
    "\n",
    "rects4 = ax.bar(index + bar_width*3, list(tmp[3]), bar_width,\n",
    "                alpha=opacity, color='y',\n",
    "                error_kw=error_config,\n",
    "                label='kpop')\n",
    "\n",
    "rects5 = ax.bar(index + bar_width*4, list(tmp[4]), bar_width,\n",
    "                alpha=opacity, color='c',\n",
    "                error_kw=error_config,\n",
    "                label='jazz')\n",
    "\n",
    "ax.set_xlabel('Country')\n",
    "ax.set_ylabel('# of listeners')\n",
    "ax.set_title('2011: genre in top 5 user active countries')\n",
    "ax.set_xticks(index + bar_width / 2)\n",
    "ax.set_xticklabels(('US', 'UK', 'DE', 'BR', 'NL'))\n",
    "ax.set_ylim(0, 250)\n",
    "ax.legend()\n",
    "\n",
    "\n",
    "fig.tight_layout()\n",
    "plt.show()\n",
    "fig.savefig('listeners_country_genre.png',format='png', dpi=1000)"
   ]
  },
  {
   "cell_type": "markdown",
   "metadata": {},
   "source": [
    "In the plot above, each genre is presented with a different color. It is clear how the number of the listeners for each genre is different than other genres for each country"
   ]
  },
  {
   "cell_type": "code",
   "execution_count": null,
   "metadata": {
    "collapsed": true
   },
   "outputs": [],
   "source": []
  }
 ],
 "metadata": {
  "kernelspec": {
   "display_name": "Python 2",
   "language": "python",
   "name": "python2"
  },
  "language_info": {
   "codemirror_mode": {
    "name": "ipython",
    "version": 2
   },
   "file_extension": ".py",
   "mimetype": "text/x-python",
   "name": "python",
   "nbconvert_exporter": "python",
   "pygments_lexer": "ipython2",
   "version": "2.7.13"
  }
 },
 "nbformat": 4,
 "nbformat_minor": 2
}
