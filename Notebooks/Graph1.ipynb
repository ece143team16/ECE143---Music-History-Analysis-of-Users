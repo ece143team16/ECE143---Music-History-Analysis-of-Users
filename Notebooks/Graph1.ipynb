{
 "cells": [
  {
   "cell_type": "code",
   "execution_count": 1,
   "metadata": {},
   "outputs": [],
   "source": [
    "import urllib2\n",
    "import numpy as np\n",
    "import tarfile\n",
    "import os\n",
    "import gzip\n",
    "import pandas as pd\n",
    "import cPickle as pickle\n",
    "from matplotlib.pylab import subplots\n",
    "from matplotlib.ticker import MaxNLocator\n",
    "import time\n",
    "import datetime\n",
    "import matplotlib.dates as mdates\n",
    "#u='\n",
    "#response = urllib2.urlopen(u)\n",
    "#words = [i.strip() for i in response.readlines()]"
   ]
  },
  {
   "cell_type": "code",
   "execution_count": 2,
   "metadata": {},
   "outputs": [],
   "source": [
    "#df = pd.read_csv('/Users/yjt/Downloads/final_artist_table (1).csv')\n",
    "#df.head()"
   ]
  },
  {
   "cell_type": "code",
   "execution_count": 9,
   "metadata": {},
   "outputs": [],
   "source": [
    "\n",
    "def find_period(UnixTime, periods):\n",
    "    '''\n",
    "    find the periods that UTCtime is in \n",
    "    :param UTCtime, like 1200835411\n",
    "    :type message: int\n",
    "    :param UTCtime, like [(start_UTCtime, end_UTCtime), ]\n",
    "    :type message: int\n",
    "    :returns: index of the period that UTCtime is in in periods, return -1 if cannot find a \n",
    "    period that UTCtime is in\n",
    "    :type returns: int\n",
    "    '''\n",
    "    for i in range(len(periods)):\n",
    "        if periods[i][0] <= UnixTime < periods[i][1]:\n",
    "            return i\n",
    "    \n",
    "    # now we cannot find a period that UTCtime is in \n",
    "    return -1\n",
    "\n",
    "def UTC_to_UnixTime(dt):\n",
    "    '''\n",
    "    Given a UTC time, find the Unix time\n",
    "\n",
    "    :param dt, UTC datetime\n",
    "    :type message: datetime.datetime\n",
    "    :returns: Unix time of the UTC datetime, like 1200835411\n",
    "    :type returns: int\n",
    "    '''\n",
    "    return int((dt - datetime.datetime(1970,1,1)).total_seconds())\n",
    "\n",
    "def UnixTime_to_UTC(timestamp):\n",
    "\n",
    "    '''\n",
    "    converts Unix time to UTC time\n",
    "    \n",
    "    :param timestamp: unix timestamp\n",
    "    :type timestamp: int \n",
    "    :return corresponding date and time\n",
    "    :type: datetime.datetime\n",
    "    '''\n",
    "    # can show it use .strftime('%Y-%m-%d %H:%M:%S')\n",
    "    return datetime.datetime.utcfromtimestamp(int(timestamp))"
   ]
  },
  {
   "cell_type": "code",
   "execution_count": 6,
   "metadata": {},
   "outputs": [],
   "source": [
    "path = '/Users/yjt/Downloads'\n",
    "filename = 'MLHD_000.tar'\n",
    "os.chdir(path)\n",
    "\n",
    "assert os.path.exists(path + '/' + filename) \n",
    "\n",
    "new_path = path + '/' + filename[:-4]\n",
    "if not os.path.exists(new_path):\n",
    "    os.makedirs(new_path)\n",
    "tar = tarfile.open(path + '/' + filename)\n",
    "tar.extractall(new_path)\n",
    "tar.close()\n"
   ]
  },
  {
   "cell_type": "code",
   "execution_count": 7,
   "metadata": {},
   "outputs": [
    {
     "name": "stdout",
     "output_type": "stream",
     "text": [
      ".DS_Store\n"
     ]
    }
   ],
   "source": [
    "for filename in os.listdir(new_path):\n",
    "    if 'gz' not in filename:\n",
    "        print filename"
   ]
  },
  {
   "cell_type": "code",
   "execution_count": 21,
   "metadata": {},
   "outputs": [
    {
     "name": "stdout",
     "output_type": "stream",
     "text": [
      "--- 5741.85008097 seconds ---\n"
     ]
    }
   ],
   "source": [
    "MBID_dictionary = pickle.load(open('MBID_dictionary.p','rb'))\n",
    "df_demographics = pd.read_csv('MLHD_demographics_scrobble.csv', delimiter = '\\t')\n",
    "\n",
    "\n",
    "start_time = time.time()\n",
    "\n",
    "# graph1\n",
    "# periods = [(start_UnixTime, end_UnixTime)]  converted periods\n",
    "selected_datetimes = []\n",
    "for i in range(18):\n",
    "    for j in range(12):\n",
    "        selected_datetimes.append(datetime.datetime(2001 + i, j + 1, 1))\n",
    "UnixTimes = [UTC_to_UnixTime(dt) for dt in selected_datetimes]\n",
    "\n",
    "periods = []\n",
    "for i in range(len(UnixTimes) - 1):\n",
    "    periods.append((UnixTimes[i], UnixTimes[i + 1])) \n",
    "    \n",
    "genres = ['pop', 'rock', 'jazz', 'folk', 'blue', 'kpop'] # list of genres\n",
    "\n",
    "# data format, dictionaries: {genres: (periods, #listeners)} \n",
    "# initialization of dictionary\n",
    "statistics1 = {}\n",
    "for genre in genres:\n",
    "    statistics1[genre] = (periods, [0] * len(periods))\n",
    "    \n",
    "    \n",
    "# graph 2\n",
    "# ages = [1, 2, 3,...]\n",
    "ages = [i + 1 for i in range(100)]\n",
    "\n",
    "\n",
    "# data format, dictionaries: {genres: (ages, #listeners)} \n",
    "# initialization of dictionary\n",
    "statistics2 = {}\n",
    "for genre in genres:\n",
    "    statistics2[genre] = (ages, [0] * len(ages))\n",
    "\n",
    "# number of files we go through\n",
    "num_file = 0\n",
    "for filename in os.listdir(new_path): # iterate over all user files\n",
    "    if 'gz' in filename and num_file < 1000:\n",
    "        num_file += 1\n",
    "        with gzip.open(new_path + '/' + filename) as f:\n",
    "            # clearing the data\n",
    "            user = pd.read_csv(f, delimiter = '\\t', header = None)\n",
    "            user = user.drop([2,3],axis=1) \n",
    "            user = user.dropna()\n",
    "            user.columns = ['time', 'artist_MBID']\n",
    "\n",
    "\n",
    "            # graph 1\n",
    "\n",
    "            # one user can only be counted once for one period of every genre\n",
    "            # so we use tag_added to denote whether one user is added as a listener\n",
    "            # for a genre of some period \n",
    "            # tag_added initialization\n",
    "            tag_added = {}\n",
    "            for genre in genres:\n",
    "                tag_added[genre] =  [False] * len(periods)\n",
    "            user_uuid = filename[:-7]\n",
    "            user_demographics = df_demographics[df_demographics.uuid == uuid]\n",
    "            # user_used is a boolean indicating whether we use this user to do statistics\n",
    "            # because the data of user is obtained in different time periods, so we need to\n",
    "            # ensure that in the periods we used to do statistics, the user is continuing to\n",
    "            # contribute data to our dataset\n",
    "            user_used = user_demographics.firstscrobble <= periods[0][0] and \n",
    "                        user_demographics.lastscrobble >= periods[len(periods) - 1][1]\n",
    "\n",
    "            # graph 2\n",
    "            \n",
    "            \n",
    "            \n",
    "            \n",
    "            \n",
    "            for i in range(user.shape[0]): #iterate all logs in one user file\n",
    "\n",
    "                # graph 1\n",
    "                if user_used:\n",
    "                    period_index = find_period(user.iat[i,0], periods)\n",
    "                    if  period_index != -1:\n",
    "                        if user.iat[i,1] in MBID_dictionary:\n",
    "                            taglist = MBID_dictionary[user.iat[i,1]]\n",
    "                            for tag in taglist: \n",
    "                                for genre in genres:\n",
    "                                    # tag can be something like 'hardrock' and 'pop/rock'\n",
    "                                    if genre in tag and not tag_added[genre][period_index]:\n",
    "                                        statistics1[genre][1][period_index] += 1\n",
    "                                        tag_added[genre][period_index] = True\n",
    "\n",
    "\n",
    "\n",
    "                # graph2\n",
    "                \n",
    "\n",
    "                            \n",
    "                            \n",
    "                            \n",
    "                            \n",
    "print(\"--- %s seconds ---\" % (time.time() - start_time))           \n",
    "                \n",
    "                \n",
    "        \n",
    "        "
   ]
  },
  {
   "cell_type": "code",
   "execution_count": 39,
   "metadata": {},
   "outputs": [
    {
     "name": "stdout",
     "output_type": "stream",
     "text": [
      "('f0bf4fa0-028e-452f-82d3-7d4375e105dd', ['northern soul', 'classic pop and rock', 'soul', 'pop soul', 'death by pneumonia', 'death by heart attack', 'rock & roll', 'chicago soul', 'rhythm & blues'])\n",
      "('aaaa267c-2ace-4846-883e-be4f6790b288', ['fiction'])\n",
      "('9bbe4898-0ed4-4870-9891-7fcb7bb4d3af', ['latvian'])\n",
      "('86d7ff58-35dc-4875-afdc-57e538cca822', ['acid-jazz', 'french'])\n",
      "('eabe9a34-71f7-4518-817e-76f0f8b64f9b', ['production music'])\n",
      "('698ff525-ff51-4206-8f08-60a7458aab24', ['hip hop rnb and dance hall', 'rapper', 'hip-hop', 'hip hop', 'producer'])\n",
      "('2df1096e-cd96-40e7-9c8d-1a1a3218cf41', ['polish'])\n",
      "('7489d9ba-d930-4c00-a10c-9ec66577925f', ['latvian'])\n"
     ]
    }
   ],
   "source": [
    "num_key = 0\n",
    "for key in iter(MBID_dictionary):\n",
    "    if num_key < 8:\n",
    "        print (key, MBID_dictionary[key])\n",
    "        num_key += 1"
   ]
  },
  {
   "cell_type": "code",
   "execution_count": 11,
   "metadata": {},
   "outputs": [],
   "source": [
    "%matplotlib inline"
   ]
  },
  {
   "cell_type": "code",
   "execution_count": 25,
   "metadata": {},
   "outputs": [
    {
     "data": {
      "image/png": "[encoded data removed]",
      "text/plain": [
       "<Figure size 432x288 with 1 Axes>"
      ]
     },
     "metadata": {},
     "output_type": "display_data"
    }
   ],
   "source": [
    "# visualization\n",
    "years = mdates.YearLocator()   # every year\n",
    "months = mdates.MonthLocator()  # every month\n",
    "yearsFmt = mdates.DateFormatter('%Y')\n",
    "\n",
    "fig1,ax1 = subplots()\n",
    "for genre in iter(statistics1):\n",
    "    dates = [UnixTime_to_UTC(period[0]) for period in statistics1[genre][0]]\n",
    "    ax1.plot(dates,statistics1[genre][1], label = genre)\n",
    "\n",
    "\n",
    "ax1.legend(loc='best')\n",
    "ax1.set_xlabel('date')\n",
    "ax1.set_ylabel('#listeners')\n",
    "\n",
    "# format the ticks\n",
    "ax1.xaxis.set_major_locator(years)\n",
    "ax1.xaxis.set_major_formatter(yearsFmt)\n",
    "ax1.xaxis.set_minor_locator(months)\n",
    "ax1.yaxis.set_major_locator(MaxNLocator(integer=True))\n",
    "\n",
    "datemin = datetime.datetime(2005, 1, 1)\n",
    "datemax = datetime.datetime(2014, 1, 1)\n",
    "ax1.set_xlim(datemin, datemax)\n",
    "\n",
    "\n",
    "# format \n",
    "#ax.format_xdata = mdates.DateFormatter('%Y-%m-%d')\n",
    "ax1.grid(True)\n",
    "\n",
    "# rotates and right aligns the x labels, and moves the bottom of the\n",
    "# axes up to make room for them\n",
    "fig1.autofmt_xdate()\n",
    "\n",
    "fig1.show()\n",
    "\n",
    "#print tuple(genres)\n",
    "#print statistics1['kpop']\n",
    "\n",
    "\n"
   ]
  },
  {
   "cell_type": "code",
   "execution_count": 20,
   "metadata": {},
   "outputs": [
    {
     "name": "stdout",
     "output_type": "stream",
     "text": [
      "blue\n",
      "kpop\n",
      "jazz\n",
      "pop\n",
      "rock\n",
      "folk\n"
     ]
    }
   ],
   "source": []
  },
  {
   "cell_type": "code",
   "execution_count": 9,
   "metadata": {},
   "outputs": [
    {
     "data": {
      "text/plain": [
       "[2, 4, 6, 8, 10, 12]"
      ]
     },
     "execution_count": 9,
     "metadata": {},
     "output_type": "execute_result"
    }
   ],
   "source": [
    "x = [1,2,3,4,5,6]\n",
    "y = [2 * i for i in x]\n",
    "y"
   ]
  },
  {
   "cell_type": "code",
   "execution_count": null,
   "metadata": {},
   "outputs": [],
   "source": []
  },
  {
   "cell_type": "code",
   "execution_count": 12,
   "metadata": {},
   "outputs": [
    {
     "data": {
      "image/png": "[encoded data removed]",
      "text/plain": [
       "<Figure size 432x288 with 2 Axes>"
      ]
     },
     "metadata": {},
     "output_type": "display_data"
    }
   ],
   "source": [
    "import matplotlib\n",
    "from matplotlib.pylab import subplots\n",
    "x = [1,2,3,4,5,6]\n",
    "y = [2 * i for i in x]\n",
    "fig,axs=subplots(2,1) # 2-rows, 1-column\n",
    "axs[0].plot(x,y,'r-o')\n",
    "axs[1].plot(x,y,'g--s')\n",
    "fig.show()"
   ]
  },
  {
   "cell_type": "code",
   "execution_count": 24,
   "metadata": {},
   "outputs": [
    {
     "data": {
      "text/html": [
       "<div>\n",
       "<style scoped>\n",
       "    .dataframe tbody tr th:only-of-type {\n",
       "        vertical-align: middle;\n",
       "    }\n",
       "\n",
       "    .dataframe tbody tr th {\n",
       "        vertical-align: top;\n",
       "    }\n",
       "\n",
       "    .dataframe thead th {\n",
       "        text-align: right;\n",
       "    }\n",
       "</style>\n",
       "<table border=\"1\" class=\"dataframe\">\n",
       "  <thead>\n",
       "    <tr style=\"text-align: right;\">\n",
       "      <th></th>\n",
       "      <th>col1</th>\n",
       "      <th>col2</th>\n",
       "    </tr>\n",
       "  </thead>\n",
       "  <tbody>\n",
       "    <tr>\n",
       "      <th>0</th>\n",
       "      <td>1</td>\n",
       "      <td>1</td>\n",
       "    </tr>\n",
       "    <tr>\n",
       "      <th>1</th>\n",
       "      <td>1</td>\n",
       "      <td>2</td>\n",
       "    </tr>\n",
       "    <tr>\n",
       "      <th>2</th>\n",
       "      <td>0</td>\n",
       "      <td>3</td>\n",
       "    </tr>\n",
       "    <tr>\n",
       "      <th>3</th>\n",
       "      <td>0</td>\n",
       "      <td>4</td>\n",
       "    </tr>\n",
       "  </tbody>\n",
       "</table>\n",
       "</div>"
      ],
      "text/plain": [
       "   col1  col2\n",
       "0     1     1\n",
       "1     1     2\n",
       "2     0     3\n",
       "3     0     4"
      ]
     },
     "execution_count": 24,
     "metadata": {},
     "output_type": "execute_result"
    }
   ],
   "source": [
    "df = pd.DataFrame({'col1': [1,1,0,0], 'col2': [1,2,3,4]})\n",
    "df.head()"
   ]
  },
  {
   "cell_type": "code",
   "execution_count": 27,
   "metadata": {},
   "outputs": [
    {
     "data": {
      "text/plain": [
       "3"
      ]
     },
     "execution_count": 27,
     "metadata": {},
     "output_type": "execute_result"
    }
   ],
   "source": [
    "df.iat[2,1]"
   ]
  },
  {
   "cell_type": "code",
   "execution_count": 6,
   "metadata": {},
   "outputs": [],
   "source": [
    "df['sum_col']=df.eval('col1+col2')"
   ]
  },
  {
   "cell_type": "code",
   "execution_count": 7,
   "metadata": {},
   "outputs": [
    {
     "data": {
      "text/html": [
       "<div>\n",
       "<style scoped>\n",
       "    .dataframe tbody tr th:only-of-type {\n",
       "        vertical-align: middle;\n",
       "    }\n",
       "\n",
       "    .dataframe tbody tr th {\n",
       "        vertical-align: top;\n",
       "    }\n",
       "\n",
       "    .dataframe thead th {\n",
       "        text-align: right;\n",
       "    }\n",
       "</style>\n",
       "<table border=\"1\" class=\"dataframe\">\n",
       "  <thead>\n",
       "    <tr style=\"text-align: right;\">\n",
       "      <th></th>\n",
       "      <th>col1</th>\n",
       "      <th>col2</th>\n",
       "      <th>sumcol</th>\n",
       "      <th>sum_col</th>\n",
       "    </tr>\n",
       "  </thead>\n",
       "  <tbody>\n",
       "    <tr>\n",
       "      <th>0</th>\n",
       "      <td>1</td>\n",
       "      <td>1</td>\n",
       "      <td>1</td>\n",
       "      <td>2</td>\n",
       "    </tr>\n",
       "    <tr>\n",
       "      <th>1</th>\n",
       "      <td>1</td>\n",
       "      <td>2</td>\n",
       "      <td>1</td>\n",
       "      <td>3</td>\n",
       "    </tr>\n",
       "    <tr>\n",
       "      <th>2</th>\n",
       "      <td>0</td>\n",
       "      <td>3</td>\n",
       "      <td>1</td>\n",
       "      <td>3</td>\n",
       "    </tr>\n",
       "    <tr>\n",
       "      <th>3</th>\n",
       "      <td>0</td>\n",
       "      <td>4</td>\n",
       "      <td>1</td>\n",
       "      <td>4</td>\n",
       "    </tr>\n",
       "  </tbody>\n",
       "</table>\n",
       "</div>"
      ],
      "text/plain": [
       "   col1  col2  sumcol  sum_col\n",
       "0     1     1       1        2\n",
       "1     1     2       1        3\n",
       "2     0     3       1        3\n",
       "3     0     4       1        4"
      ]
     },
     "execution_count": 7,
     "metadata": {},
     "output_type": "execute_result"
    }
   ],
   "source": [
    "df.head()"
   ]
  },
  {
   "cell_type": "code",
   "execution_count": 33,
   "metadata": {},
   "outputs": [
    {
     "ename": "TypeError",
     "evalue": "list indices must be integers, not tuple",
     "output_type": "error",
     "traceback": [
      "\u001b[0;31m---------------------------------------------------------------------------\u001b[0m",
      "\u001b[0;31mTypeError\u001b[0m                                 Traceback (most recent call last)",
      "\u001b[0;32m<ipython-input-33-2fc54d0d1c39>\u001b[0m in \u001b[0;36m<module>\u001b[0;34m()\u001b[0m\n\u001b[1;32m      1\u001b[0m \u001b[0ma\u001b[0m \u001b[0;34m=\u001b[0m \u001b[0;34m[\u001b[0m\u001b[0;34m(\u001b[0m\u001b[0;36m1\u001b[0m\u001b[0;34m,\u001b[0m\u001b[0;36m2\u001b[0m\u001b[0;34m)\u001b[0m\u001b[0;34m,\u001b[0m \u001b[0;34m(\u001b[0m\u001b[0;36m2\u001b[0m\u001b[0;34m,\u001b[0m\u001b[0;36m3\u001b[0m\u001b[0;34m,\u001b[0m\u001b[0;36m4\u001b[0m\u001b[0;34m)\u001b[0m\u001b[0;34m]\u001b[0m\u001b[0;34m\u001b[0m\u001b[0m\n\u001b[0;32m----> 2\u001b[0;31m \u001b[0ma\u001b[0m\u001b[0;34m[\u001b[0m\u001b[0;36m0\u001b[0m\u001b[0;34m,\u001b[0m\u001b[0;36m1\u001b[0m\u001b[0;34m]\u001b[0m\u001b[0;34m\u001b[0m\u001b[0m\n\u001b[0m",
      "\u001b[0;31mTypeError\u001b[0m: list indices must be integers, not tuple"
     ]
    }
   ],
   "source": [
    "a = [(1,2), (2,3,4)]\n",
    "a[0,1]"
   ]
  },
  {
   "cell_type": "code",
   "execution_count": 33,
   "metadata": {},
   "outputs": [
    {
     "data": {
      "text/plain": [
       "([1, 2], [2, 3])"
      ]
     },
     "execution_count": 33,
     "metadata": {},
     "output_type": "execute_result"
    }
   ],
   "source": [
    "x = [1,2]\n",
    "y = [2,3]\n",
    "a = {'a': (x,y), 'b':(x,y)}\n",
    "a['a']"
   ]
  },
  {
   "cell_type": "code",
   "execution_count": 34,
   "metadata": {},
   "outputs": [
    {
     "name": "stdout",
     "output_type": "stream",
     "text": [
      "{'a': 1, 'b': ([1, 2], [2, 3])}\n"
     ]
    }
   ],
   "source": [
    "a ['a'] = 1\n",
    "print a"
   ]
  },
  {
   "cell_type": "code",
   "execution_count": 35,
   "metadata": {},
   "outputs": [
    {
     "data": {
      "text/html": [
       "<div>\n",
       "<style scoped>\n",
       "    .dataframe tbody tr th:only-of-type {\n",
       "        vertical-align: middle;\n",
       "    }\n",
       "\n",
       "    .dataframe tbody tr th {\n",
       "        vertical-align: top;\n",
       "    }\n",
       "\n",
       "    .dataframe thead th {\n",
       "        text-align: right;\n",
       "    }\n",
       "</style>\n",
       "<table border=\"1\" class=\"dataframe\">\n",
       "  <thead>\n",
       "    <tr style=\"text-align: right;\">\n",
       "      <th></th>\n",
       "      <th>a</th>\n",
       "      <th>b</th>\n",
       "    </tr>\n",
       "  </thead>\n",
       "  <tbody>\n",
       "    <tr>\n",
       "      <th>0</th>\n",
       "      <td>1</td>\n",
       "      <td>[1, 2]</td>\n",
       "    </tr>\n",
       "    <tr>\n",
       "      <th>1</th>\n",
       "      <td>1</td>\n",
       "      <td>[2, 3]</td>\n",
       "    </tr>\n",
       "  </tbody>\n",
       "</table>\n",
       "</div>"
      ],
      "text/plain": [
       "   a       b\n",
       "0  1  [1, 2]\n",
       "1  1  [2, 3]"
      ]
     },
     "execution_count": 35,
     "metadata": {},
     "output_type": "execute_result"
    }
   ],
   "source": [
    "df = pd.DataFrame.from_dict(a)\n",
    "df.head(8)"
   ]
  },
  {
   "cell_type": "code",
   "execution_count": 39,
   "metadata": {},
   "outputs": [
    {
     "data": {
      "text/plain": [
       "False"
      ]
     },
     "execution_count": 39,
     "metadata": {},
     "output_type": "execute_result"
    }
   ],
   "source": [
    " 'rock' not in 'rock/pop'"
   ]
  },
  {
   "cell_type": "code",
   "execution_count": 45,
   "metadata": {},
   "outputs": [
    {
     "data": {
      "text/plain": [
       "[0, 0, 0, 0, 0, 0, 0]"
      ]
     },
     "execution_count": 45,
     "metadata": {},
     "output_type": "execute_result"
    }
   ],
   "source": [
    "[0] * 7"
   ]
  },
  {
   "cell_type": "code",
   "execution_count": 47,
   "metadata": {},
   "outputs": [
    {
     "data": {
      "text/plain": [
       "False"
      ]
     },
     "execution_count": 47,
     "metadata": {},
     "output_type": "execute_result"
    }
   ],
   "source": [
    "(1,2) == (1,3)"
   ]
  },
  {
   "cell_type": "code",
   "execution_count": 53,
   "metadata": {},
   "outputs": [
    {
     "data": {
      "text/plain": [
       "[1, 2, 3]"
      ]
     },
     "execution_count": 53,
     "metadata": {},
     "output_type": "execute_result"
    }
   ],
   "source": [
    "a = [1,2]\n",
    "a + [3]"
   ]
  },
  {
   "cell_type": "code",
   "execution_count": 18,
   "metadata": {},
   "outputs": [
    {
     "data": {
      "text/plain": [
       "1.5"
      ]
     },
     "execution_count": 18,
     "metadata": {},
     "output_type": "execute_result"
    }
   ],
   "source": [
    "np.mean((1,2))"
   ]
  },
  {
   "cell_type": "code",
   "execution_count": 91,
   "metadata": {},
   "outputs": [
    {
     "name": "stdout",
     "output_type": "stream",
     "text": [
      "<matplotlib.dates.YearLocator object at 0x11197aed0>\n"
     ]
    }
   ],
   "source": [
    "years = mdates.YearLocator()   # every year\n",
    "months = mdates.MonthLocator()  # every month\n",
    "yearsFmt = mdates.DateFormatter('%Y')\n",
    "print years"
   ]
  },
  {
   "cell_type": "code",
   "execution_count": null,
   "metadata": {},
   "outputs": [],
   "source": []
  }
 ],
 "metadata": {
  "kernelspec": {
   "display_name": "Python 2",
   "language": "python",
   "name": "python2"
  },
  "language_info": {
   "codemirror_mode": {
    "name": "ipython",
    "version": 2
   },
   "file_extension": ".py",
   "mimetype": "text/x-python",
   "name": "python",
   "nbconvert_exporter": "python",
   "pygments_lexer": "ipython2",
   "version": "2.7.15"
  }
 },
 "nbformat": 4,
 "nbformat_minor": 2
}
