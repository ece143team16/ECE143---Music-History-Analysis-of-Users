{
 "cells": [
  {
   "cell_type": "code",
   "execution_count": 1,
   "metadata": {},
   "outputs": [
    {
     "ename": "NameError",
     "evalue": "name 'genre_for_artist' is not defined",
     "output_type": "error",
     "traceback": [
      "\u001b[0;31m---------------------------------------------------------------------------\u001b[0m",
      "\u001b[0;31mNameError\u001b[0m                                 Traceback (most recent call last)",
      "\u001b[0;32m<ipython-input-1-16921efd5346>\u001b[0m in \u001b[0;36m<module>\u001b[0;34m()\u001b[0m\n\u001b[1;32m      9\u001b[0m \u001b[0;34m:\u001b[0m\u001b[0mtype\u001b[0m \u001b[0mreturns\u001b[0m\u001b[0;34m:\u001b[0m \u001b[0mstr\u001b[0m\u001b[0;34m\u001b[0m\u001b[0m\n\u001b[1;32m     10\u001b[0m '''\n\u001b[0;32m---> 11\u001b[0;31m \u001b[0mgenre_for_artist\u001b[0m\u001b[0;34m(\u001b[0m\u001b[0martist_MBID\u001b[0m\u001b[0;34m)\u001b[0m\u001b[0;34m\u001b[0m\u001b[0m\n\u001b[0m\u001b[1;32m     12\u001b[0m \u001b[0;34m\u001b[0m\u001b[0m\n\u001b[1;32m     13\u001b[0m '''\n",
      "\u001b[0;31mNameError\u001b[0m: name 'genre_for_artist' is not defined"
     ]
    }
   ],
   "source": [
    "# Interfaces\n",
    "# list of functions we should use\n",
    "'''\n",
    "Given artist MBID, find his genre\n",
    "\n",
    ":param artist-MBID: MBID of an artist\n",
    ":type message: str\n",
    ":returns: name of genre\n",
    ":type returns: str\n",
    "'''\n",
    "genre_for_artist(artist_MBID)\n",
    "\n",
    "'''\n",
    "Given a genre name, get a list of artists that have this genre\n",
    "\n",
    ":param genre: name of genre\n",
    ":type message: str\n",
    ":returns: a list of artist-MBID\n",
    ":type returns: list\n",
    "\n",
    "'''\n",
    "artists_for_genre(genre)"
   ]
  },
  {
   "cell_type": "code",
   "execution_count": null,
   "metadata": {},
   "outputs": [],
   "source": [
    "'''\n",
    "Do some statistics for one user file. \n",
    "\n",
    ":param filename: file name of the user file\n",
    ":type message: str\n",
    ":returns: dictionaries, {genre: listened times, }\n",
    ":returns: set consists of unique artists\n",
    ":type returns: set\n",
    "'''\n",
    "def statistics_for_one_user(filename, period):\n",
    "    assert isinstance(filename, str)\n",
    "    assert isinstance(period, tuple)\n",
    "    assert len(period) = 2\n",
    "    \n",
    "    history = pd.read_csv(filename, delimiter = '\\t', header = None)\n",
    "    history_relevant = history.drop([2,3],axis=1) \n",
    "    new_history = history_relevant.dropna()\n",
    "    \n",
    "    user = new_history\n",
    "    user.columns = ['time', 'artist_MBID']\n",
    "    user = user[user.time >= period[0]]\n",
    "    user = user[user.time <= period[1]]\n",
    "    \n",
    "    # in a period of time, get a list of genre of corresponding times that the user listened to\n",
    "    # create a dictionaries, {genre: listened times, }\n",
    "    result = {}\n",
    "    for i in range(user.shape[0]):\n",
    "        artist_MBID = user.iat[i, 1]\n",
    "        genre = genre_for_aritst(artist_MBID)\n",
    "        if genre in result:\n",
    "            result[genre] += 1\n",
    "        else:\n",
    "            result += {genre : 1}\n",
    "\n",
    "    # do some statistics about artist, we just need a set of unique artist_MBIDs, {artist_MBIDs}\n",
    "    artists = set(user.iloc[:,1])\n",
    "    \n",
    "    return result, artists\n"
   ]
  },
  {
   "cell_type": "code",
   "execution_count": null,
   "metadata": {},
   "outputs": [],
   "source": []
  }
 ],
 "metadata": {
  "kernelspec": {
   "display_name": "Python 2",
   "language": "python",
   "name": "python2"
  },
  "language_info": {
   "codemirror_mode": {
    "name": "ipython",
    "version": 2
   },
   "file_extension": ".py",
   "mimetype": "text/x-python",
   "name": "python",
   "nbconvert_exporter": "python",
   "pygments_lexer": "ipython2",
   "version": "2.7.15"
  }
 },
 "nbformat": 4,
 "nbformat_minor": 2
}
