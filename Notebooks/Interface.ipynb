{
 "cells": [
  {
   "cell_type": "code",
   "execution_count": 1,
   "metadata": {},
   "outputs": [
    {
     "ename": "NameError",
     "evalue": "name 'genre_for_artist' is not defined",
     "output_type": "error",
     "traceback": [
      "\u001b[0;31m---------------------------------------------------------------------------\u001b[0m",
      "\u001b[0;31mNameError\u001b[0m                                 Traceback (most recent call last)",
      "\u001b[0;32m<ipython-input-1-16921efd5346>\u001b[0m in \u001b[0;36m<module>\u001b[0;34m()\u001b[0m\n\u001b[1;32m      9\u001b[0m \u001b[0;34m:\u001b[0m\u001b[0mtype\u001b[0m \u001b[0mreturns\u001b[0m\u001b[0;34m:\u001b[0m \u001b[0mstr\u001b[0m\u001b[0;34m\u001b[0m\u001b[0m\n\u001b[1;32m     10\u001b[0m '''\n\u001b[0;32m---> 11\u001b[0;31m \u001b[0mgenre_for_artist\u001b[0m\u001b[0;34m(\u001b[0m\u001b[0martist_MBID\u001b[0m\u001b[0;34m)\u001b[0m\u001b[0;34m\u001b[0m\u001b[0m\n\u001b[0m\u001b[1;32m     12\u001b[0m \u001b[0;34m\u001b[0m\u001b[0m\n\u001b[1;32m     13\u001b[0m '''\n",
      "\u001b[0;31mNameError\u001b[0m: name 'genre_for_artist' is not defined"
     ]
    }
   ],
   "source": [
    "# Interfaces\n",
    "# list of functions we should use\n",
    "'''\n",
    "Given artist MBID, find his genre\n",
    "\n",
    ":param artist-MBID: MBID of an artist\n",
    ":type message: str\n",
    ":returns: name of genre\n",
    ":type returns: str\n",
    "'''\n",
    "genre_for_artist(artist_MBID)\n",
    "\n",
    "'''\n",
    "Given a genre name, get a list of artists that have this genre\n",
    "\n",
    ":param genre: name of genre\n",
    ":type message: str\n",
    ":returns: a list of artist-MBID\n",
    ":type returns: list\n",
    "\n",
    "'''\n",
    "artists_for_genre(genre)"
   ]
  },
  {
   "cell_type": "code",
   "execution_count": null,
   "metadata": {},
   "outputs": [],
   "source": []
  }
 ],
 "metadata": {
  "kernelspec": {
   "display_name": "Python 2",
   "language": "python",
   "name": "python2"
  },
  "language_info": {
   "codemirror_mode": {
    "name": "ipython",
    "version": 2
   },
   "file_extension": ".py",
   "mimetype": "text/x-python",
   "name": "python",
   "nbconvert_exporter": "python",
   "pygments_lexer": "ipython2",
   "version": "2.7.15"
  }
 },
 "nbformat": 4,
 "nbformat_minor": 2
}
